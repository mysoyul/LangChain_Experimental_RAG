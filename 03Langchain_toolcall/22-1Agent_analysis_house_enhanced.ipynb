{
 "cells": [
  {
   "cell_type": "markdown",
   "metadata": {},
   "source": [
    "# 향상된 데이터 분석 에이전트\n",
    "## 주택 가격 예측 데이터셋 분석\n",
    "\n",
    "이 노트북은 LangChain의 pandas 데이터프레임 에이전트를 사용하여 주택 가격 데이터를 분석합니다."
   ]
  },
  {
   "cell_type": "code",
   "execution_count": null,
   "metadata": {},
   "outputs": [],
   "source": [
    "# 필요한 라이브러리 설치\n",
    "# !pip install langchain langchain-experimental langchain-openai pandas matplotlib seaborn numpy scikit-learn python-dotenv"
   ]
  },
  {
   "cell_type": "code",
   "execution_count": null,
   "metadata": {},
   "outputs": [],
   "source": [
    "# 환경 변수에서 API 키 가져오기\n",
    "import os\n",
    "import warnings\n",
    "from dotenv import load_dotenv\n",
    "\n",
    "# 경고 메시지 숨기기\n",
    "warnings.filterwarnings('ignore')\n",
    "\n",
    "load_dotenv()\n",
    "OPENAI_API_KEY = os.getenv(\"OPENAI_API_KEY\")\n",
    "\n",
    "if not OPENAI_API_KEY:\n",
    "    print(\" OPENAI_API_KEY가 설정되지 않았습니다. .env 파일을 확인해주세요.\")\n",
    "else:\n",
    "    print(\"OpenAI API 키가 성공적으로 로드되었습니다.\")"
   ]
  },
  {
   "cell_type": "code",
   "execution_count": null,
   "metadata": {},
   "outputs": [],
   "source": [
    "import pandas as pd\n",
    "import numpy as np\n",
    "import matplotlib.pyplot as plt\n",
    "import seaborn as sns\n",
    "from sklearn.model_selection import train_test_split\n",
    "from sklearn.preprocessing import StandardScaler, LabelEncoder\n",
    "from sklearn.ensemble import RandomForestRegressor\n",
    "from sklearn.metrics import mean_squared_error, r2_score\n",
    "\n",
    "# 한글 폰트 설정 (matplotlib)\n",
    "plt.rcParams['font.family'] = 'Malgun Gothic'\n",
    "plt.rcParams['axes.unicode_minus'] = False\n",
    "\n",
    "# pandas 옵션 설정\n",
    "pd.set_option('display.max_columns', None)\n",
    "pd.set_option('display.width', None)\n",
    "pd.set_option('display.max_colwidth', 50)"
   ]
  },
  {
   "cell_type": "code",
   "execution_count": null,
   "metadata": {},
   "outputs": [],
   "source": [
    "# 데이터 로드\n",
    "try:\n",
    "    train = pd.read_csv('./data/house/train.csv')\n",
    "    test = pd.read_csv('./data/house/test.csv')\n",
    "    print(f\"훈련 데이터 로드 완료: {train.shape}\")\n",
    "    print(f\"테스트 데이터 로드 완료: {test.shape}\")\n",
    "except FileNotFoundError:\n",
    "    print(\"데이터 파일을 찾을 수 없습니다. './data/' 폴더에 train.csv와 test.csv 파일이 있는지 확인해주세요.\")\n",
    "    # 임시로 샘플 데이터 생성\n",
    "    train = pd.DataFrame({\n",
    "        'Id': range(1, 101),\n",
    "        'LotArea': np.random.randint(5000, 20000, 100),\n",
    "        'OverallQual': np.random.randint(1, 11, 100),\n",
    "        'GrLivArea': np.random.randint(800, 3000, 100),\n",
    "        'SalePrice': np.random.randint(100000, 500000, 100)\n",
    "    })\n",
    "    test = train.drop('SalePrice', axis=1).head(50)\n",
    "    print(\"샘플 데이터를 생성했습니다.\")"
   ]
  },
  {
   "cell_type": "code",
   "execution_count": null,
   "metadata": {},
   "outputs": [],
   "source": [
    "# 기본 데이터 정보 확인\n",
    "print(\"=== 훈련 데이터 기본 정보 ===\")\n",
    "print(train.info())\n",
    "print(f\"데이터 크기: {train.shape}\")\n",
    "print(f\"결측값 총 개수:\\n {train.isnull().sum()}\")\n",
    "print(f\"중복된 행: {train.duplicated().sum()}\")\n"
   ]
  },
  {
   "cell_type": "code",
   "execution_count": null,
   "metadata": {},
   "outputs": [],
   "source": [
    "for idx, col_name in enumerate(train.columns) :\n",
    "    missingValueRate = train[col_name].isna().sum() / len(train) * 100\n",
    "    if missingValueRate > 0 :\n",
    "        print(f\"{idx} {col_name} null rate: {round(missingValueRate, 2)}%\")"
   ]
  },
  {
   "cell_type": "code",
   "execution_count": null,
   "metadata": {},
   "outputs": [],
   "source": [
    "\n",
    "print(\"\\n=== 테스트 데이터 기본 정보 ===\")\n",
    "print(test.info())\n",
    "print(f\"데이터 크기: {test.shape}\")\n",
    "print(f\"결측값 총 개수: {test.isnull().sum()}\")\n",
    "print(f\"중복된 행: {test.duplicated().sum()}\")\n"
   ]
  },
  {
   "cell_type": "code",
   "execution_count": null,
   "metadata": {},
   "outputs": [],
   "source": [
    "for idx, col_name in enumerate(test.columns) :\n",
    "    missingValueRate = test[col_name].isna().sum() / len(test) * 100\n",
    "    if missingValueRate > 0 :\n",
    "        print(f\"{idx} {col_name} null rate: {round(missingValueRate, 2)}%\")"
   ]
  },
  {
   "cell_type": "code",
   "execution_count": null,
   "metadata": {},
   "outputs": [],
   "source": [
    "\n",
    "# 공통 컬럼과 차이점 확인\n",
    "train_cols = set(train.columns)\n",
    "test_cols = set(test.columns)\n",
    "common_cols = train_cols.intersection(test_cols)\n",
    "train_only = train_cols - test_cols\n",
    "test_only = test_cols - train_cols\n",
    "\n",
    "print(f\"\\n=== 컬럼 비교 ===\")\n",
    "print(f\"공통 컬럼: {len(common_cols)}개\")\n",
    "print(f\"훈련 데이터에만 있는 컬럼: {train_only}\")\n",
    "print(f\"테스트 데이터에만 있는 컬럼: {test_only}\")"
   ]
  },
  {
   "cell_type": "code",
   "execution_count": null,
   "metadata": {},
   "outputs": [],
   "source": [
    "# 데이터 전처리 함수\n",
    "def preprocess_data(df, is_train=True):\n",
    "    \"\"\"데이터 전처리 함수\"\"\"\n",
    "    df_processed = df.copy()\n",
    "    \n",
    "    # 수치형 컬럼의 결측값을 중앙값으로 채우기\n",
    "    numeric_cols = df_processed.select_dtypes(include=[np.number]).columns\n",
    "    for col in numeric_cols:\n",
    "        if df_processed[col].isnull().sum() > 0:\n",
    "            df_processed[col].fillna(df_processed[col].median(), inplace=True)\n",
    "    \n",
    "    # 범주형 컬럼의 결측값을 'Unknown'으로 채우기\n",
    "    categorical_cols = df_processed.select_dtypes(include=[object]).columns\n",
    "    for col in categorical_cols:\n",
    "        if df_processed[col].isnull().sum() > 0:\n",
    "            df_processed[col].fillna('Unknown', inplace=True)\n",
    "    \n",
    "    return df_processed\n",
    "\n",
    "# 데이터 전처리 적용\n",
    "train_processed = preprocess_data(train, is_train=True)\n",
    "test_processed = preprocess_data(test, is_train=False)\n",
    "\n",
    "print(\"데이터 전처리가 완료되었습니다.\")\n",
    "print(f\"훈련 데이터 결측값: {train_processed.isnull().sum().sum()}\")\n",
    "print(f\"테스트 데이터 결측값: {test_processed.isnull().sum().sum()}\")"
   ]
  },
  {
   "cell_type": "code",
   "execution_count": null,
   "metadata": {},
   "outputs": [],
   "source": [
    "# LangChain 에이전트 설정\n",
    "from langchain_experimental.agents.agent_toolkits import create_pandas_dataframe_agent\n",
    "from langchain_openai import ChatOpenAI\n",
    "\n",
    "# LLM 초기화\n",
    "llm = ChatOpenAI(\n",
    "    #model='gpt-3.5-turbo-0125', \n",
    "    model='gpt-4o-mini',\n",
    "    temperature=0,\n",
    "    api_key=OPENAI_API_KEY\n",
    ")\n",
    "\n",
    "# 훈련 데이터용 에이전트 생성\n",
    "train_agent = create_pandas_dataframe_agent(\n",
    "    llm,\n",
    "    train_processed,\n",
    "    #agent_type=\"openai-tools\",\n",
    "    agent_type=\"tool-calling\",\n",
    "    verbose=True,\n",
    "    return_intermediate_steps=False,\n",
    "    allow_dangerous_code=True,\n",
    "    prefix=\"\"\"당신은 주택 가격 예측 데이터셋을 분석하는 전문가입니다. \n",
    "    데이터프레임의 이름은 'df'입니다. 한국어로 답변해주세요.\n",
    "    시각화를 요청받으면 matplotlib를 사용하여 깔끔하고 이해하기 쉬운 그래프를 만들어주세요.\"\"\"\n",
    ")\n",
    "\n",
    "# 테스트 데이터용 에이전트 생성\n",
    "test_agent = create_pandas_dataframe_agent(\n",
    "    llm,\n",
    "    test_processed,\n",
    "    agent_type=\"openai-tools\",\n",
    "    verbose=False,\n",
    "    return_intermediate_steps=False,\n",
    "    allow_dangerous_code=True,\n",
    "    prefix=\"\"\"당신은 테스트 데이터셋을 분석하는 전문가입니다. \n",
    "    데이터프레임의 이름은 'df'입니다. 한국어로 답변해주세요.\"\"\"\n",
    ")\n",
    "\n",
    "print(\"LangChain 에이전트가 성공적으로 생성되었습니다.\")"
   ]
  },
  {
   "cell_type": "markdown",
   "metadata": {},
   "source": [
    "## 기본 데이터 탐색"
   ]
  },
  {
   "cell_type": "code",
   "execution_count": null,
   "metadata": {},
   "outputs": [],
   "source": [
    "# 기본 통계 정보 확인\n",
    "response = train_agent.invoke('데이터의 기본 통계 정보를 보여주세요. 특히 SalePrice에 대한 정보를 자세히 설명해주세요.')\n",
    "print(response['output'])"
   ]
  },
  {
   "cell_type": "code",
   "execution_count": null,
   "metadata": {},
   "outputs": [],
   "source": [
    "# 주택 가격 분포 시각화\n",
    "response = train_agent.invoke(\"\"\"\n",
    "SalePrice의 분포를 다음과 같이 시각화해주세요:\n",
    "1. 히스토그램 (bins=50)\n",
    "2. 박스플롯\n",
    "3. 기본 통계량 출력\n",
    "\n",
    "그래프는 한국어 제목과 라벨을 사용하고, 서브플롯으로 구성해주세요.\n",
    "\"\"\")\n",
    "print(response['output'])"
   ]
  },
  {
   "cell_type": "code",
   "execution_count": null,
   "metadata": {},
   "outputs": [],
   "source": [
    "# 결측값 분석\n",
    "response = train_agent.invoke(\"\"\"\n",
    "결측값이 많은 상위 10개 컬럼을 찾아서 막대그래프로 시각화해주세요.\n",
    "결측값 비율도 함께 계산해서 보여주세요.\n",
    "\"\"\")\n",
    "print(response['output'])"
   ]
  },
  {
   "cell_type": "markdown",
   "metadata": {},
   "source": [
    "## 상관관계 분석"
   ]
  },
  {
   "cell_type": "code",
   "execution_count": null,
   "metadata": {},
   "outputs": [],
   "source": [
    "# SalePrice와 상관관계가 높은 변수들 찾기\n",
    "response = train_agent.invoke(\"\"\"\n",
    "SalePrice와 상관관계가 높은 상위 10개 수치형 변수를 찾아주세요.\n",
    "상관계수를 막대그래프로 시각화하고, 각 변수에 대한 간단한 설명도 포함해주세요.\n",
    "\"\"\")\n",
    "print(response['output'])"
   ]
  },
  {
   "cell_type": "code",
   "execution_count": null,
   "metadata": {},
   "outputs": [],
   "source": [
    "# 주요 변수들 간의 산점도 매트릭스\n",
    "response = train_agent.invoke(\"\"\"\n",
    "SalePrice와 상관관계가 높은 상위 5개 변수들과 SalePrice를 포함하여\n",
    "pairplot이나 산점도 매트릭스를 만들어주세요.\n",
    "seaborn을 사용하면 더 좋습니다.\n",
    "\"\"\")\n",
    "print(response['output'])"
   ]
  },
  {
   "cell_type": "markdown",
   "metadata": {},
   "source": [
    "## 범주형 변수 분석"
   ]
  },
  {
   "cell_type": "code",
   "execution_count": null,
   "metadata": {},
   "outputs": [],
   "source": [
    "# 주요 범주형 변수들의 분포\n",
    "response = train_agent.invoke(\"\"\"\n",
    "다음 범주형 변수들의 분포를 시각화해주세요:\n",
    "1. Neighborhood (동네별 주택 개수)\n",
    "2. OverallQual (전체 품질별 분포)\n",
    "3. SaleType (판매 유형별 분포)\n",
    "\n",
    "각각을 서브플롯으로 만들고, 가독성을 위해 적절히 회전시켜주세요.\n",
    "\"\"\")\n",
    "print(response['output'])"
   ]
  },
  {
   "cell_type": "code",
   "execution_count": null,
   "metadata": {},
   "outputs": [],
   "source": [
    "# 범주형 변수별 평균 주택 가격\n",
    "response = train_agent.invoke(\"\"\"\n",
    "Neighborhood별 평균 SalePrice를 계산하고 막대그래프로 시각화해주세요.\n",
    "가격 순으로 정렬하고, 가장 비싸거나 저렴한 동네들을 분석해주세요.\n",
    "\"\"\")\n",
    "print(response['output'])"
   ]
  },
  {
   "cell_type": "markdown",
   "metadata": {},
   "source": [
    "## 고급 분석"
   ]
  },
  {
   "cell_type": "code",
   "execution_count": null,
   "metadata": {},
   "outputs": [],
   "source": [
    "# 연도별 주택 가격 트렌드\n",
    "response = train_agent.invoke(\"\"\"\n",
    "YearBuilt(건축연도)와 YrSold(판매연도)에 따른 주택 가격의 트렌드를 분석해주세요.\n",
    "시계열 그래프로 시각화하고, 주요 인사이트를 설명해주세요.\n",
    "\"\"\")\n",
    "print(response['output'])"
   ]
  },
  {
   "cell_type": "code",
   "execution_count": null,
   "metadata": {},
   "outputs": [],
   "source": [
    "# 이상치 탐지\n",
    "response = train_agent.invoke(\"\"\"\n",
    "SalePrice에서 이상치(outliers)를 탐지하고 분석해주세요.\n",
    "IQR 방법을 사용하여 이상치를 식별하고, 이상치들의 특성을 분석해주세요.\n",
    "박스플롯도 함께 그려주세요.\n",
    "\"\"\")\n",
    "print(response['output'])"
   ]
  },
  {
   "cell_type": "markdown",
   "metadata": {},
   "source": [
    "## 테스트 데이터 분석"
   ]
  },
  {
   "cell_type": "code",
   "execution_count": null,
   "metadata": {},
   "outputs": [],
   "source": [
    "# 테스트 데이터 기본 정보\n",
    "response = test_agent.invoke(\"\"\"\n",
    "테스트 데이터의 기본 정보를 분석해주세요:\n",
    "1. 데이터 형태와 크기\n",
    "2. 결측값 현황\n",
    "3. 주요 수치형 변수들의 기본 통계량\n",
    "\"\"\")\n",
    "print(response['output'])"
   ]
  },
  {
   "cell_type": "code",
   "execution_count": null,
   "metadata": {},
   "outputs": [],
   "source": [
    "# 훈련 데이터와 테스트 데이터 비교\n",
    "print(\"=== 훈련 데이터와 테스트 데이터 분포 비교 ===\")\n",
    "\n",
    "# 공통 수치형 변수들 선택\n",
    "common_numeric_cols = ['LotArea', 'OverallQual', 'YearBuilt', 'GrLivArea', 'GarageCars']\n",
    "available_cols = [col for col in common_numeric_cols if col in train_processed.columns and col in test_processed.columns]\n",
    "\n",
    "if available_cols:\n",
    "    fig, axes = plt.subplots(len(available_cols), 1, figsize=(12, 4*len(available_cols)))\n",
    "    if len(available_cols) == 1:\n",
    "        axes = [axes]\n",
    "    \n",
    "    for i, col in enumerate(available_cols):\n",
    "        axes[i].hist(train_processed[col], alpha=0.5, label='Train', bins=30, density=True)\n",
    "        axes[i].hist(test_processed[col], alpha=0.5, label='Test', bins=30, density=True)\n",
    "        axes[i].set_title(f'{col} Distribution Comparison')\n",
    "        axes[i].set_xlabel(col)\n",
    "        axes[i].set_ylabel('Density')\n",
    "        axes[i].legend()\n",
    "    \n",
    "    plt.tight_layout()\n",
    "    plt.show()\n",
    "else:\n",
    "    print(\"비교할 수 있는 공통 수치형 변수가 없습니다.\")"
   ]
  },
  {
   "cell_type": "markdown",
   "metadata": {},
   "source": [
    "## 간단한 예측 모델"
   ]
  },
  {
   "cell_type": "code",
   "execution_count": null,
   "metadata": {},
   "outputs": [],
   "source": [
    "# 간단한 머신러닝 모델 구축\n",
    "def build_simple_model():\n",
    "    \"\"\"간단한 랜덤포레스트 모델 구축\"\"\"\n",
    "    \n",
    "    # 수치형 변수만 선택 (SalePrice 제외)\n",
    "    if 'SalePrice' in train_processed.columns:\n",
    "        numeric_features = train_processed.select_dtypes(include=[np.number]).columns.drop(['Id', 'SalePrice'])\n",
    "        \n",
    "        X = train_processed[numeric_features]\n",
    "        y = train_processed['SalePrice']\n",
    "        \n",
    "        # 훈련/검증 분할\n",
    "        X_train, X_val, y_train, y_val = train_test_split(X, y, test_size=0.2, random_state=42)\n",
    "        \n",
    "        # 모델 훈련\n",
    "        model = RandomForestRegressor(n_estimators=100, random_state=42)\n",
    "        model.fit(X_train, y_train)\n",
    "        \n",
    "        # 예측 및 평가\n",
    "        y_pred = model.predict(X_val)\n",
    "        mse = mean_squared_error(y_val, y_pred)\n",
    "        r2 = r2_score(y_val, y_pred)\n",
    "        \n",
    "        print(f\"모델 성능:\")\n",
    "        print(f\"RMSE: {np.sqrt(mse):,.2f}\")\n",
    "        print(f\"R² Score: {r2:.4f}\")\n",
    "        \n",
    "        # 특성 중요도\n",
    "        feature_importance = pd.DataFrame({\n",
    "            'feature': numeric_features,\n",
    "            'importance': model.feature_importances_\n",
    "        }).sort_values('importance', ascending=False)\n",
    "        \n",
    "        # 특성 중요도 시각화\n",
    "        plt.figure(figsize=(10, 8))\n",
    "        plt.barh(feature_importance.head(15)['feature'], feature_importance.head(15)['importance'])\n",
    "        plt.title('Top 15 Feature Importance')\n",
    "        plt.xlabel('Importance')\n",
    "        plt.gca().invert_yaxis()\n",
    "        plt.tight_layout()\n",
    "        plt.show()\n",
    "        \n",
    "        return model, feature_importance\n",
    "    else:\n",
    "        print(\"SalePrice 컬럼이 없어서 모델을 구축할 수 없습니다.\")\n",
    "        return None, None\n",
    "\n",
    "model, feature_importance = build_simple_model()"
   ]
  },
  {
   "cell_type": "markdown",
   "metadata": {},
   "source": [
    "## 종합 인사이트"
   ]
  },
  {
   "cell_type": "code",
   "execution_count": null,
   "metadata": {},
   "outputs": [],
   "source": [
    "# 최종 인사이트 요청\n",
    "response = train_agent.invoke(\"\"\"\n",
    "지금까지의 분석을 바탕으로 주택 가격에 영향을 미치는 주요 요인들을 요약해주세요.\n",
    "다음 내용을 포함해주세요:\n",
    "1. 가격에 가장 큰 영향을 미치는 상위 5개 요인\n",
    "2. 주목할 만한 패턴이나 트렌드\n",
    "3. 데이터의 특이사항이나 주의점\n",
    "4. 추가 분석이 필요한 영역\n",
    "\"\"\")\n",
    "print(response['output'])"
   ]
  },
  {
   "cell_type": "markdown",
   "metadata": {},
   "source": [
    "## 추가 분석 함수들"
   ]
  },
  {
   "cell_type": "code",
   "execution_count": null,
   "metadata": {},
   "outputs": [],
   "source": [
    "# 사용자 정의 분석 함수\n",
    "def custom_analysis(question):\n",
    "    \"\"\"사용자 정의 질문으로 분석 수행\"\"\"\n",
    "    try:\n",
    "        response = train_agent.invoke(question)\n",
    "        return response['output']\n",
    "    except Exception as e:\n",
    "        return f\"분석 중 오류가 발생했습니다: {str(e)}\"\n",
    "\n",
    "def compare_datasets(question):\n",
    "    \"\"\"훈련 데이터와 테스트 데이터 비교 분석\"\"\"\n",
    "    print(\"=== 훈련 데이터 분석 ===\")\n",
    "    train_response = train_agent.invoke(question)\n",
    "    print(train_response['output'])\n",
    "    \n",
    "    print(\"\\n=== 테스트 데이터 분석 ===\")\n",
    "    test_response = test_agent.invoke(question)\n",
    "    print(test_response['output'])\n",
    "\n",
    "# 예시 사용법\n",
    "print(\"✅ 추가 분석 함수들이 준비되었습니다.\")\n",
    "print(\"\\n사용 예시:\")\n",
    "print(\"custom_analysis('특정 동네의 주택 가격 분포를 분석해주세요')\")\n",
    "print(\"compare_datasets('OverallQual의 분포를 분석해주세요')\")"
   ]
  },
  {
   "cell_type": "code",
   "execution_count": null,
   "metadata": {},
   "outputs": [],
   "source": [
    "# 대화형 분석 예시\n",
    "print(\"=== 대화형 분석 예시 ===\")\n",
    "print(\"\\n원하는 분석을 자유롭게 요청해보세요!\")\n",
    "print(\"예: '방 개수와 주택 가격의 관계를 분석해주세요'\")\n",
    "print(\"예: '가장 비싼 주택들의 특징을 찾아주세요'\")\n",
    "print(\"예: '건축 연도별 주택 가격 변화를 시각화해주세요'\")\n",
    "\n",
    "# 여기서부터는 사용자가 직접 질문을 입력할 수 있습니다.\n",
    "# 예시:\n",
    "# result = custom_analysis('방 개수와 주택 가격의 관계를 분석해주세요')\n",
    "# print(result)"
   ]
  }
 ],
 "metadata": {
  "kernelspec": {
   "display_name": "chatbot-0lCeHk3W-py3.12",
   "language": "python",
   "name": "python3"
  },
  "language_info": {
   "codemirror_mode": {
    "name": "ipython",
    "version": 3
   },
   "file_extension": ".py",
   "mimetype": "text/x-python",
   "name": "python",
   "nbconvert_exporter": "python",
   "pygments_lexer": "ipython3",
   "version": "3.12.7"
  }
 },
 "nbformat": 4,
 "nbformat_minor": 4
}
