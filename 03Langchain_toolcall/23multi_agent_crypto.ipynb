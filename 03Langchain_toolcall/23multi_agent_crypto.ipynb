{
 "cells": [
  {
   "cell_type": "code",
   "execution_count": null,
   "metadata": {},
   "outputs": [],
   "source": [
    "# 환경 변수에서 API 키 가져오기\n",
    "import os\n",
    "from dotenv import load_dotenv\n",
    "\n",
    "load_dotenv()\n",
    "OPENAI_API_KEY = os.getenv(\"OPENAI_API_KEY\")\n",
    "TAVILY_API_KEY = os.getenv(\"TAVILY_API_KEY\")"
   ]
  },
  {
   "cell_type": "code",
   "execution_count": null,
   "metadata": {},
   "outputs": [],
   "source": [
    "# CrewAI 라이브러리에서 필요한 클래스 가져오기\n",
    "from langchain_openai import ChatOpenAI\n",
    "\n",
    "# LLM\n",
    "llm = ChatOpenAI(\n",
    "    #model='gpt-3.5-turbo', \n",
    "    model='gpt-4o-mini',\n",
    "    temperature=0,\n",
    "    api_key=OPENAI_API_KEY)"
   ]
  },
  {
   "cell_type": "code",
   "execution_count": null,
   "metadata": {},
   "outputs": [],
   "source": [
    "# Search Tool\n",
    "from crewai import Agent, Task, Crew, Process\n",
    "from crewai.tools import tool\n",
    "from langchain_community.tools.tavily_search import TavilySearchResults\n",
    "\n",
    "\n",
    "#search_tool = TavilySearchResults(api_key=TAVILY_API_KEY)\n",
    "@tool(\"tavily_search_wrapper\")\n",
    "def tavily_search_wrapper(query: str) -> str:\n",
    "    \"\"\"Tavily 검색 도구 래퍼\"\"\"\n",
    "    search_tool = TavilySearchResults(api_key=TAVILY_API_KEY)\n",
    "    return search_tool.run(query)"
   ]
  },
  {
   "cell_type": "code",
   "execution_count": null,
   "metadata": {},
   "outputs": [],
   "source": [
    "# Agent\n",
    "researcher = Agent(\n",
    "role='Market Researcher',\n",
    "goal='Uncover emerging trends and investment opportunities in the cryptocurrency market in 2024.',\n",
    "backstory='Identify groundbreaking trends and actionable insights.',\n",
    "verbose=True,\n",
    "tools=[tavily_search_wrapper],\n",
    "allow_delegation=False,\n",
    "llm=llm,\n",
    "max_iter=3,\n",
    "max_rpm=10,\n",
    ")\n",
    "\n",
    "analyst = Agent(\n",
    "role='Investment Analyst',\n",
    "goal='Analyze cryptocurrency market data to extract actionable insights and investment leads.',\n",
    "backstory='Draw meaningful conclusions from cryptocurrency market data.',\n",
    "verbose=True,\n",
    "allow_delegation=False,\n",
    "llm=llm,\n",
    ")"
   ]
  },
  {
   "cell_type": "code",
   "execution_count": null,
   "metadata": {},
   "outputs": [],
   "source": [
    "# Tasks\n",
    "research_task = Task(\n",
    "description='Explore the internet to pinpoint emerging trends and potential investment opportunities.',\n",
    "agent=researcher,\n",
    "expected_output='A detailed summary of the reserch results in string format'\n",
    ")\n",
    "\n",
    "\n",
    "analyst_task = Task(\n",
    "description='Analyze the provided cryptocurrency market data to extract key insights and compile a concise report.',\n",
    "agent=analyst,\n",
    "expected_output='A refined finalized version of the report in string format'\n",
    ")"
   ]
  },
  {
   "cell_type": "code",
   "execution_count": null,
   "metadata": {},
   "outputs": [],
   "source": [
    "#`Crew` is a group of agents working together to accomplish a task\n",
    "crypto_crew = Crew(\n",
    "agents=[researcher, analyst],\n",
    "tasks=[research_task, analyst_task],\n",
    "process=Process.sequential  \n",
    ")"
   ]
  },
  {
   "cell_type": "code",
   "execution_count": null,
   "metadata": {},
   "outputs": [],
   "source": [
    "#`kickoff` method starts the crew's process\n",
    "result = crypto_crew.kickoff()"
   ]
  },
  {
   "cell_type": "code",
   "execution_count": null,
   "metadata": {},
   "outputs": [],
   "source": []
  }
 ],
 "metadata": {
  "kernelspec": {
   "display_name": "chatbot-0lCeHk3W-py3.12",
   "language": "python",
   "name": "python3"
  },
  "language_info": {
   "codemirror_mode": {
    "name": "ipython",
    "version": 3
   },
   "file_extension": ".py",
   "mimetype": "text/x-python",
   "name": "python",
   "nbconvert_exporter": "python",
   "pygments_lexer": "ipython3",
   "version": "3.12.7"
  }
 },
 "nbformat": 4,
 "nbformat_minor": 2
}
