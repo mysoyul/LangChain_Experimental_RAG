{
 "cells": [
  {
   "cell_type": "code",
   "execution_count": null,
   "metadata": {},
   "outputs": [],
   "source": [
    "# 환경 변수에서 API 키 가져오기\n",
    "import os\n",
    "from dotenv import load_dotenv\n",
    "load_dotenv()\n",
    "\n",
    "OPENAI_API_KEY = os.getenv(\"OPENAI_API_KEY\")\n",
    "TAVILY_API_KEY = os.getenv(\"TAVILY_API_KEY\")"
   ]
  },
  {
   "cell_type": "code",
   "execution_count": null,
   "metadata": {},
   "outputs": [],
   "source": [
    "from langchain_openai import ChatOpenAI\n",
    "\n",
    "# LLM\n",
    "llm = ChatOpenAI(model='gpt-4o-mini', temperature=0)"
   ]
  },
  {
   "cell_type": "code",
   "execution_count": null,
   "metadata": {},
   "outputs": [],
   "source": [
    "# CrewAI 라이브러리에서 필요한 클래스 가져오기\n",
    "from crewai import Agent, Task, Crew, Process\n",
    "from crewai.tools import tool\n",
    "from langchain_community.tools.tavily_search import TavilySearchResults\n",
    "\n",
    "#search_tool = TavilySearchResults()\n",
    "@tool(\"tavily_search_wrapper\")\n",
    "def tavily_search_wrapper(query: str) -> str:\n",
    "    \"\"\"Tavily 검색 도구 래퍼\"\"\"\n",
    "    search_tool = TavilySearchResults(api_key=TAVILY_API_KEY)\n",
    "    return search_tool.run(query)"
   ]
  },
  {
   "cell_type": "code",
   "execution_count": null,
   "metadata": {},
   "outputs": [],
   "source": [
    "# PDF Search Tool\n",
    "from crewai_tools import PDFSearchTool\n",
    "\n",
    "pdf_tool = PDFSearchTool(pdf='./data/제주_코스별_여행지.pdf')"
   ]
  },
  {
   "cell_type": "code",
   "execution_count": null,
   "metadata": {},
   "outputs": [],
   "source": [
    "# Custom Tool\n",
    "#from crewai_tools import tool\n",
    "from crewai.tools import tool\n",
    "\n",
    "from selenium import webdriver\n",
    "from selenium.webdriver.chrome.service import Service\n",
    "from webdriver_manager.chrome import ChromeDriverManager\n",
    "from selenium.webdriver.common.by import By\n",
    "from selenium.webdriver.common.keys import Keys\n",
    "from selenium.webdriver.support.ui import WebDriverWait\n",
    "from selenium.webdriver.support import expected_conditions as EC\n",
    "from bs4 import BeautifulSoup\n",
    "import time\n",
    "\n",
    "@tool(\"search_place_info\")\n",
    "def search_place_info(place_name: str) -> str:\n",
    "    \"\"\"\n",
    "    Searches for a location on Google Maps.\n",
    "    Returns operating hours, address, phone number, and fees.\n",
    "    \"\"\"\n",
    "\n",
    "    # Chrome 드라이버 설정\n",
    "    options = webdriver.ChromeOptions()\n",
    "    options.add_argument('--headless') \n",
    "\n",
    "    service = Service(ChromeDriverManager().install())\n",
    "\n",
    "    driver = webdriver.Chrome(service=service, options=options)\n",
    "    driver.get(\"https://www.google.com/maps/\")\n",
    "    driver.implicitly_wait(10)\n",
    "\n",
    "\n",
    "    # 검색창에 입력하기\n",
    "    input_search = driver.find_element(By.ID, 'searchboxinput')\n",
    "    input_search.send_keys(place_name)\n",
    "    driver.implicitly_wait(5)\n",
    "    input_search.send_keys(Keys.RETURN)\n",
    "    driver.implicitly_wait(5)\n",
    "    time.sleep(3)\n",
    "\n",
    "\n",
    "    # 장소가 여러 개 검색된 경우\n",
    "    if f\"{place_name}에대한검색결과\" in driver.page_source.replace(\" \", \"\"):\n",
    "        search_results = driver.find_elements(By.CSS_SELECTOR, 'div > div > div > div > a')\n",
    "\n",
    "        for n, item in enumerate(search_results):\n",
    "            try:\n",
    "                if place_name in item.get_attribute('aria-label'):\n",
    "                    item.click()\n",
    "                    driver.implicitly_wait(5)\n",
    "                    time.sleep(3)\n",
    "                    break\n",
    "\n",
    "            except:\n",
    "                pass\n",
    "    # 장소 정보 가져오기\n",
    "    soup = BeautifulSoup(driver.page_source, 'html.parser')\n",
    "    place_info = soup.find_all('div', attrs={'aria-label': place_name})\n",
    "    place_info_text = \"\\n\".join([info.text for info in place_info])\n",
    "\n",
    "    driver.quit()\n",
    "\n",
    "    return place_info_text"
   ]
  },
  {
   "cell_type": "code",
   "execution_count": null,
   "metadata": {},
   "outputs": [],
   "source": [
    "place_name = \"제주민속촌\"\n",
    "\n",
    "# Chrome 드라이버 설정\n",
    "options = webdriver.ChromeOptions()\n",
    "# options.add_argument('--headless') \n",
    "\n",
    "service = Service(ChromeDriverManager().install())\n",
    "\n",
    "driver = webdriver.Chrome(service=service, options=options)\n",
    "driver.get(\"https://www.google.com/maps/\")\n",
    "driver.implicitly_wait(10)"
   ]
  },
  {
   "cell_type": "code",
   "execution_count": null,
   "metadata": {},
   "outputs": [],
   "source": [
    "# 검색창에 입력하기\n",
    "input_search = driver.find_element(By.ID, 'searchboxinput')\n",
    "input_search.send_keys(place_name)\n",
    "driver.implicitly_wait(5)\n",
    "input_search.send_keys(Keys.RETURN)\n",
    "driver.implicitly_wait(5)\n",
    "time.sleep(3)"
   ]
  },
  {
   "cell_type": "code",
   "execution_count": null,
   "metadata": {},
   "outputs": [],
   "source": [
    "# div > div > div > div > a"
   ]
  },
  {
   "cell_type": "code",
   "execution_count": null,
   "metadata": {},
   "outputs": [],
   "source": [
    "# 장소가 여러 개 검색된 경우\n",
    "if f\"{place_name}에대한검색결과\" in driver.page_source.replace(\" \", \"\"):\n",
    "    search_results = driver.find_elements(By.CSS_SELECTOR, 'div > div > div > div > a')\n",
    "\n",
    "    for n, item in enumerate(search_results):\n",
    "        try:\n",
    "            if place_name in item.get_attribute('aria-label'):\n",
    "                item.click()\n",
    "                driver.implicitly_wait(5)\n",
    "                time.sleep(3)\n",
    "                break\n",
    "        except:\n",
    "            pass"
   ]
  },
  {
   "cell_type": "code",
   "execution_count": null,
   "metadata": {},
   "outputs": [],
   "source": [
    "# 장소 정보 가져오기\n",
    "soup = BeautifulSoup(driver.page_source, 'html.parser')\n",
    "place_info = soup.find_all('div', attrs={'aria-label': place_name})\n",
    "place_info_text = \"\\n\".join([info.text for info in place_info])"
   ]
  },
  {
   "cell_type": "code",
   "execution_count": null,
   "metadata": {},
   "outputs": [],
   "source": [
    "print(place_info_text)"
   ]
  },
  {
   "cell_type": "code",
   "execution_count": null,
   "metadata": {},
   "outputs": [],
   "source": [
    "driver.quit()"
   ]
  },
  {
   "cell_type": "code",
   "execution_count": null,
   "metadata": {},
   "outputs": [],
   "source": [
    "# Agent\n",
    "jeju_tour_planning_expert = Agent(\n",
    "    role='Jeju Tour Planning Expert',\n",
    "    goal='Select the best locations within Jeju based on weather, season, prices, and tourist preferences',\n",
    "    backstory='An expert in analyzing local data to pick ideal destinations within Jeju Island',\n",
    "    cache=True,\n",
    "    verbose=True,\n",
    "    tools=[tavily_search_wrapper, pdf_tool, search_place_info],\n",
    "    allow_delegation=False,\n",
    "    llm=llm,\n",
    "    max_iter=3,\n",
    "    max_rpm=10,\n",
    ")\n",
    "\n",
    "jeju_local_expert = Agent(\n",
    "    role='Jeju Local Expert',\n",
    "    goal='Provide the BEST insights about the selected locations in Jeju',\n",
    "    backstory=\"\"\"A knowledgeable local guide with extensive information\n",
    "    about Jeju's attractions, customs, and hidden gems\"\"\",\n",
    "    cache=True,\n",
    "    verbose=True,\n",
    "    tools=[tavily_search_wrapper, pdf_tool, search_place_info],\n",
    "    allow_delegation=False,\n",
    "    llm=llm,\n",
    "    max_iter=3,\n",
    "    max_rpm=10,\n",
    ")\n",
    "\n",
    "\n",
    "jeju_travel_concierge = Agent(\n",
    "    role='Jeju Custom Travel Concierge',\n",
    "    goal=\"\"\"Create the most amazing travel itineraries for Jeju including budget and packing suggestions\"\"\",\n",
    "    backstory=\"\"\"Specialist in Jeju travel planning and logistics with \n",
    "    extensive experience\"\"\",\n",
    "    cache=True,\n",
    "    verbose=True,\n",
    "    tools=[tavily_search_wrapper],\n",
    "    allow_delegation=False,\n",
    "    llm=llm,\n",
    "    max_iter=3,\n",
    "    max_rpm=10,\n",
    ")\n",
    "\n"
   ]
  },
  {
   "cell_type": "code",
   "execution_count": null,
   "metadata": {},
   "outputs": [],
   "source": [
    "# Tasks\n",
    "jeju_location_selection_task = Task(\n",
    "    description='Identify the best locations within Jeju for visiting based on current weather, season, prices, and tourist preferences.',\n",
    "    agent=jeju_tour_planning_expert,\n",
    "    expected_output='A list of recommended locations in Jeju, including reasons for each selection'\n",
    ")\n",
    "\n",
    "jeju_local_insights_task = Task(\n",
    "    description='Provide detailed insights and information about selected locations in Jeju, including attractions, customs, and hidden gems.',\n",
    "    agent=jeju_local_expert,\n",
    "    expected_output='Comprehensive information about each location, including what to see, do, and eat'\n",
    ")\n",
    "\n",
    "jeju_travel_itinerary_task = Task(\n",
    "    description='Create a detailed travel itinerary for Jeju that includes budgeting, packing suggestions, accommodations, and transportation.',\n",
    "    agent=jeju_travel_concierge,\n",
    "    expected_output='A complete travel plan for Jeju, including a day-by-day itinerary, budget estimates, and packing list. Key locations and place names should be provided in both English and Korean, such as \"Museum(박물관)\".'\n",
    ")"
   ]
  },
  {
   "cell_type": "code",
   "execution_count": null,
   "metadata": {},
   "outputs": [],
   "source": [
    "# Crew 생성  \n",
    "\n",
    "trip_crew = Crew(\n",
    "    agents=[jeju_tour_planning_expert, jeju_local_expert, jeju_travel_concierge],\n",
    "    tasks=[jeju_location_selection_task, jeju_local_insights_task, jeju_travel_itinerary_task],\n",
    "    process=Process.hierarchical,\n",
    "    manager_llm=ChatOpenAI(model=\"gpt-4o-mini\"),   # gpt-4o로 변경 가능. 단, 비용 과금에 유의 (gpt-4o는 비용이 높음)\n",
    "    respect_context_window=True,  \n",
    "    memory=True,  \n",
    "    planning=True, \n",
    ")\n"
   ]
  },
  {
   "cell_type": "code",
   "execution_count": null,
   "metadata": {},
   "outputs": [],
   "source": [
    "# Process 실행\n",
    "result = trip_crew.kickoff()"
   ]
  },
  {
   "cell_type": "code",
   "execution_count": null,
   "metadata": {},
   "outputs": [],
   "source": [
    "print(result.raw)"
   ]
  },
  {
   "cell_type": "code",
   "execution_count": null,
   "metadata": {},
   "outputs": [],
   "source": []
  }
 ],
 "metadata": {
  "kernelspec": {
   "display_name": "chatbot-0lCeHk3W-py3.12",
   "language": "python",
   "name": "python3"
  },
  "language_info": {
   "codemirror_mode": {
    "name": "ipython",
    "version": 3
   },
   "file_extension": ".py",
   "mimetype": "text/x-python",
   "name": "python",
   "nbconvert_exporter": "python",
   "pygments_lexer": "ipython3",
   "version": "3.12.7"
  }
 },
 "nbformat": 4,
 "nbformat_minor": 2
}
