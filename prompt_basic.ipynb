{
 "cells": [
  {
   "cell_type": "code",
   "execution_count": 1,
   "metadata": {},
   "outputs": [],
   "source": [
    "import os\n",
    "from dotenv import load_dotenv\n",
    "from langchain_core.prompts import ChatPromptTemplate\n",
    "from langchain_openai import ChatOpenAI \n"
   ]
  },
  {
   "cell_type": "code",
   "execution_count": 2,
   "metadata": {},
   "outputs": [
    {
     "name": "stdout",
     "output_type": "stream",
     "text": [
      "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\n"
     ]
    }
   ],
   "source": [
    "load_dotenv()\n",
    "OPENAI_API_KEY = os.getenv(\"OPENAI_API_KEY\")\n",
    "print(OPENAI_API_KEY)\n"
   ]
  },
  {
   "cell_type": "code",
   "execution_count": 14,
   "metadata": {},
   "outputs": [],
   "source": [
    "# # Groq API를 사용하는 ChatOpenAI 인스턴스 생성\n",
    "llm = ChatOpenAI(\n",
    "    api_key=OPENAI_API_KEY,\n",
    "    base_url=\"https://api.groq.com/openai/v1\",  # Groq API 엔드포인트\n",
    "    #model=\"meta-llama/llama-4-scout-17b-16e-instruct\",\n",
    "    model=\"gemma2-9b-it\",\n",
    "    temperature=0.7\n",
    ")\n",
    "\n",
    "# llm = ChatOpenAI(api_key=OPENAI_API_KEY, model_name=\"gpt-4o\")\n"
   ]
  },
  {
   "cell_type": "markdown",
   "metadata": {},
   "source": [
    "# 모델 성능을 높이는 프롬프트 기법 \n",
    "- 모델에게 정확한 지시를 제공하고, 원하는 출력을 얻기 위해 입력을 최적화하는 기술"
   ]
  },
  {
   "cell_type": "markdown",
   "metadata": {},
   "source": [
    "### 1) 구체적이고 명확하게 사용자의 지시를 제공합니다.\n",
    "- 프롬프트는 모델이 이해하기 쉽게 명확하고 간결해야 합니다.  \n",
    "- 불필요한 정보를 줄이고, 핵심 요구 사항에 집중해야 합니다.\n",
    "- 원하는 출력이 무엇인지 모델에게 정확하게 알려주어야 합니다. "
   ]
  },
  {
   "cell_type": "code",
   "execution_count": 9,
   "metadata": {},
   "outputs": [
    {
     "name": "stdout",
     "output_type": "stream",
     "text": [
      "According to my knowledge, the Mistral-Saba-24B model is a large language model, and I'd be happy to provide you with the parameter count.\n",
      "\n",
      "The Mistral-Saba-24B model has approximately 24,000,000,000 parameters. \n",
      "\n",
      "Displayed in the format you requested, that would be: 24,000,000,000\n"
     ]
    }
   ],
   "source": [
    "# 질문 (Question)\n",
    "\n",
    "# llm.invoke(\"GPT-3.5 모델의 파라미터 개수는 몇개인가요? 답변은 아라비아 숫자만을 사용해서 답변해주세요. \")\n",
    "prompt = ChatPromptTemplate.from_messages(\n",
    "    [ (\"system\", \"당신은 {system_input} 전문가입니다.\") , \n",
    "     (\"user\", \"How many parameters does the {user_input} model have? Please display the number in the format 1,000,000\") ]\n",
    ")\n",
    "\n",
    "# answer using only numerals.\n",
    "# display the number in the format 1,000,000\n",
    "prompt_text = prompt.format(system_input=\"AI\", user_input=\"mistral-saba-24b\") #gpt-3.5-turbo\" / gpt-4o / mistral-saba-24b / llama-4-scout-17b-16e-instruct\n",
    "response = llm.invoke(prompt_text)\n",
    "print(response.content)"
   ]
  },
  {
   "cell_type": "code",
   "execution_count": 10,
   "metadata": {},
   "outputs": [
    {
     "name": "stdout",
     "output_type": "stream",
     "text": [
      "엔비디아\n"
     ]
    }
   ],
   "source": [
    "# 컨텍스트 제공 (Context)\n",
    "\n",
    "response = llm.invoke(\n",
    "    \"\"\"다음 제시된 뉴스를 기반으로 질문에 답변하세요:\n",
    "    뉴스: 삼성전자가 내년 초에 자체적으로 개발한 인공지능(AI) 가속기를 처음으로 출시할 예정이다. \n",
    "          이는 AI 반도체 시장에서 지배적인 위치를 차지하고 있는 엔비디아의 독점에 도전하고, \n",
    "          세계 최고의 반도체 제조업체로서의 지위를 다시 확립하려는 삼성전자의 노력으로 해석된다.\n",
    "    \n",
    "    질문: AI 반도체 시장에서 지배적인 위치를 차지하고 있는 회사는 어디인가요? 회사이름만 출력해주세요.\n",
    "    답변:\n",
    "    \"\"\")\n",
    "print(response.content)"
   ]
  },
  {
   "cell_type": "markdown",
   "metadata": {},
   "source": [
    "### 2) 참고할 수 있는 예시를 제공합니다.\n",
    "- 원하는 출력 형식이나 스타일을 모델에게 보여주기 위해 예시를 사용할 수 있습니다. \n",
    "- 이는 모델이 출력의 방향을 잡는데 도움이 됩니다."
   ]
  },
  {
   "cell_type": "code",
   "execution_count": 15,
   "metadata": {},
   "outputs": [
    {
     "name": "stdout",
     "output_type": "stream",
     "text": [
      "다음은 뉴스에서 추출한 3개의 키워드입니다:\n",
      "\n",
      "1. **인공지능(AI) 가속기**:  본문의 핵심 내용은 삼성전자의 자체 개발 AI 가속기 출시라는 점입니다. \n",
      "2. **엔비디아**:  삼성전자는 AI 반도체 시장에서 엔비디아의 독점을 깨뜨려 나가고자 합니다. \n",
      "3. **삼성전자**:  뉴스는 삼성전자의 AI 가속기 출시와 그 배경을 다루고 있습니다. \n",
      "\n",
      "\n",
      "\n"
     ]
    }
   ],
   "source": [
    "# 예시 없음 (zero-shot)\n",
    "\n",
    "response = llm.invoke(\n",
    "    \"\"\"다음 제시된 뉴스에서 3개의 키워드를 추출하세요:\n",
    "    뉴스: 삼성전자가 내년 초에 자체적으로 개발한 인공지능(AI) 가속기를 처음으로 출시할 예정이다. \n",
    "          이는 AI 반도체 시장에서 지배적인 위치를 차지하고 있는 엔비디아의 독점에에 도전하고, \n",
    "          세계 최고의 반도체 제조업체로서의 지위를 다시 확립하려는 삼성전자의 노력으로 해석된다.\n",
    "    \n",
    "    키워드: \n",
    "    \"\"\")\n",
    "print(response.content)"
   ]
  },
  {
   "cell_type": "code",
   "execution_count": 16,
   "metadata": {},
   "outputs": [
    {
     "name": "stdout",
     "output_type": "stream",
     "text": [
      "키워드: 구글 검색, 인공지능, 제미나이 2.0 \n",
      "\n"
     ]
    }
   ],
   "source": [
    "# 1개의 예시를 제공 (one-shot)\n",
    "\n",
    "response = llm.invoke(\n",
    "    \"\"\"다음 예시와 같이 제시된 뉴스에서 3개의 키워드를 추출하세요:\n",
    "    <예시>\n",
    "    뉴스: 삼성전자가 내년 초에 자체적으로 개발한 인공지능(AI) 가속기를 처음으로 출시할 예정이다. \n",
    "          이는 AI 반도체 시장에서 지배적인 위치를 차지하고 있는 엔비디아의 독점을 도전하고, \n",
    "          세계 최고의 반도체 제조업체로서의 지위를 다시 확립하려는 삼성전자의 노력으로 해석된다.\n",
    "    \n",
    "    키워드: 삼성전자, 인공지능, 엔비디아\n",
    "    </예시>\n",
    "\n",
    "    AI의 영향을 가장 크게 받은 구글 제품은 바로 구글 검색입니다. \n",
    "    현재 10억 명의 이용자가 구글의 AI 개요(AI Overviews) 기능을 통해 완전히 새로운 유형의 질문을 할 수 있게 됐으며, 이는 가장 인기 있는 검색 기능 중 하나가 됐습니다. \n",
    "    구글은 다음 단계로, 제미나이 2.0의 고급 추론 기능을 AI 개요에 적용해 고급 수학 방정식, 멀티모달 쿼리 및 코딩 등 더 복잡한 질문을 처리할 수 있도록 개선할 예정입니다. \n",
    "    구글은 이번 주에 제한된 범위의 테스트를 시작했으며 내년 초에 더 광범위하게 출시할 예정입니다. \n",
    "    또한 내년에는 AI 개요 기능을 더 많은 국가와 언어로 확대해 선보일 계획입니다.\n",
    "    \n",
    "    키워드:\n",
    "    \"\"\")\n",
    "print(response.content)"
   ]
  },
  {
   "cell_type": "code",
   "execution_count": null,
   "metadata": {},
   "outputs": [
    {
     "name": "stdout",
     "output_type": "stream",
     "text": [
      "키워드: 제미나이 2.0, Google AI Studio, 개발자  \n",
      "\n"
     ]
    }
   ],
   "source": [
    "# 여러 개의 예시를 제공 (few-shot)\n",
    "response = llm.invoke(\n",
    "    \"\"\"다음 예시들과 같이 제시된 뉴스에서 각각 3개의 키워드를 추출하세요:\n",
    "    <예시1>\n",
    "    뉴스: 삼성전자가 내년 초에 자체적으로 개발한 인공지능(AI) 가속기를 처음으로 출시할 예정이다. \n",
    "          이는 AI 반도체 시장에서 지배적인 위치를 차지하고 있는 엔비디아의 독점을 도전하고, \n",
    "          세계 최고의 반도체 제조업체로서의 지위를 다시 확립하려는 삼성전자의 노력으로 해석된다.\n",
    "    키워드: 삼성전자, 인공지능, 엔비디아\n",
    "    </예시1>\n",
    "\n",
    "    <예시2>\n",
    "    뉴스: 세계보건기구(WHO)는 최근 새로운 건강 위기에 대응하기 위해 국제 협력의 중요성을 강조했다. \n",
    "          전염병 대응 역량의 강화와 글로벌 보건 시스템의 개선이 필요하다고 발표했다.\n",
    "    키워드: 세계보건기구 | 건강위기 | 국제 \n",
    "    </예시2>\n",
    "\n",
    "    뉴스: 제미나이 2.0 플래시는 현재 구글 AI 스튜디오(Google AI Studio) 및 버텍스 AI(Vertex AI) 에서 제미나이 API를 통해 개발자에게 실험 모델로 제공됩니다. \n",
    "         모든 개발자는 멀티모달 입력 및 텍스트 출력을 사용할 수 있으며, 텍스트 음성 변환(text-to-speech) 및 네이티브 이미지 생성은 일부 파트너들을 대상으로 제공됩니다. \n",
    "         내년 1월에는 더 많은 모델 사이즈와 함께 일반에 공개될 예정입니다.\n",
    "      \n",
    "     키워드:\n",
    "    \"\"\"\n",
    ")\n",
    "# gpt-4o\n",
    "# 키워드: 제미나이 2.0, 구글 AI 스튜디오, 버텍스 AI \n",
    "print(response.content)"
   ]
  },
  {
   "cell_type": "markdown",
   "metadata": {},
   "source": [
    "### 3) 순차적인 프롬프트(Chain of Thought)를 적용합니다.\n",
    "복잡한 문제를 해결할 때, 단계별로 문제를 분해하여 모델이 각 단계를 순차적으로 해결하도록 유도합니다."
   ]
  },
  {
   "cell_type": "code",
   "execution_count": 9,
   "metadata": {},
   "outputs": [
    {
     "data": {
      "text/plain": [
       "AIMessage(content='학교에 500명의 학생이 있습니다.\\n\\n1. **5학년 학생 수 계산**:\\n   - 5학년 학생 수 = 30% × 500 = 0.3 × 500 = 150명\\n\\n2. **6학년 학생 수 계산**:\\n   - 6학년 학생 수 = 20% × 500 = 0.2 × 500 = 100명\\n\\n3. **5학년 학생 중 수학 동아리와 과학 동아리 학생 수 계산**:\\n   - 5학년 학생 중 수학 동아리 학생 수 = 60% × 150 = 0.6 × 150 = 90명\\n   - 5학년 학생 중 과학 동아리 학생 수 = 150 - 90 = 60명\\n\\n4. **6학년 학생 중 수학 동아리와 과학 동아리 학생 수 계산**:\\n   - 6학년 학생 중 수학 동아리 학생 수 = 70% × 100 = 0.7 × 100 = 70명\\n   - 6학년 학생 중 과학 동아리 학생 수 = 100 - 70 = 30명\\n\\n5. **전체 과학 동아리 학생 수 계산**:\\n   - 전체 과학 동아리 학생 수 = 5학년 과학 동아리 학생 수 + 6학년 과학 동아리 학생 수\\n   - 전체 과학 동아리 학생 수 = 60 + 30 = 90명\\n\\n따라서, 과학 동아리에는 총 90명의 학생이 있습니다.', additional_kwargs={'refusal': None}, response_metadata={'token_usage': {'completion_tokens': 345, 'prompt_tokens': 122, 'total_tokens': 467, 'completion_tokens_details': {'audio_tokens': None, 'reasoning_tokens': 0}, 'prompt_tokens_details': {'audio_tokens': None, 'cached_tokens': 0}}, 'model_name': 'gpt-4o-mini-2024-07-18', 'system_fingerprint': 'fp_e2bde53e6e', 'finish_reason': 'stop', 'logprobs': None}, id='run-943e144d-0b41-4d3d-9455-c098eb64271f-0', usage_metadata={'input_tokens': 122, 'output_tokens': 345, 'total_tokens': 467, 'input_token_details': {'cache_read': 0}, 'output_token_details': {'reasoning': 0}})"
      ]
     },
     "execution_count": 9,
     "metadata": {},
     "output_type": "execute_result"
    }
   ],
   "source": [
    "# zero-shot 예시\n",
    "llm.invoke(\n",
    "    \"\"\"\n",
    "    Question: 학교에서 500명의 학생이 있습니다. 이 중 30%는 5학년이고, 20%는 6학년 학생입니다. \n",
    "              5학년 학생들 중 60%는 수학 동아리에 있고, 나머지는 과학 동아리에 있습니다. \n",
    "              6학년 학생들 중 70%는 수학 동아리에 있고, 나머지는 과학 동아리에 있습니다.\n",
    "              과학 동아리에는 몇 명의 학생이 있나요?\n",
    "    Answer:\n",
    "    \"\"\"\n",
    ")"
   ]
  },
  {
   "cell_type": "code",
   "execution_count": 10,
   "metadata": {},
   "outputs": [
    {
     "data": {
      "text/plain": [
       "AIMessage(content='1. 첫 번째 단계: 학교에는 총 500명의 학생이 있으며, 이 중 30%가 5학년입니다. 따라서, 5학년 학생 수는 전체 학생 수의 30%에 해당합니다.\\n   \\\\[\\n   5학년 학생 수 = 500 \\\\times 0.30 = 150명\\n   \\\\]\\n\\n2. 두 번째 단계: 5학년 학생들 중 60%는 수학 동아리에 있습니다. 따라서, 5학년 학생 중 수학 동아리에 있는 학생 수는 다음과 같습니다.\\n   \\\\[\\n   수학 동아리의 5학년 학생 수 = 150 \\\\times 0.60 = 90명\\n   \\\\]\\n   그러므로, 5학년 학생 중 과학 동아리에 있는 학생 수는 나머지 40%입니다.\\n   \\\\[\\n   과학 동아리의 5학년 학생 수 = 150 - 90 = 60명\\n   \\\\]\\n\\n3. 세 번째 단계: 학교에서 20%는 6학년 학생입니다. 따라서, 6학년 학생 수는 전체 학생 수의 20%에 해당합니다.\\n   \\\\[\\n   6학년 학생 수 = 500 \\\\times 0.20 = 100명\\n   \\\\]\\n\\n4. 네 번째 단계: 6학년 학생들 중 70%는 수학 동아리에 있습니다. 따라서, 6학년 학생 중 수학 동아리에 있는 학생 수는 다음과 같습니다.\\n   \\\\[\\n   수학 동아리의 6학년 학생 수 = 100 \\\\times 0.70 = 70명\\n   \\\\]\\n   그러므로, 6학년 학생 중 과학 동아리에 있는 학생 수는 나머지 30%입니다.\\n   \\\\[\\n   과학 동아리의 6학년 학생 수 = 100 - 70 = 30명\\n   \\\\]\\n\\n5. 마지막 단계: 과학 동아리에는 5학년과 6학년 학생들이 모두 포함되므로, 과학 동아리의 총 학생 수는 다음과 같습니다.\\n   \\\\[\\n   과학 동아리 총 학생 수 = 과학 동아리의 5학년 학생 수 + 과학 동아리의 6학년 학생 수 = 60 + 30 = 90명\\n   \\\\]\\n\\n따라서, 과학 동아리에는 총 **90명**의 학생이 있습니다.', additional_kwargs={'refusal': None}, response_metadata={'token_usage': {'completion_tokens': 524, 'prompt_tokens': 357, 'total_tokens': 881, 'completion_tokens_details': {'audio_tokens': None, 'reasoning_tokens': 0}, 'prompt_tokens_details': {'audio_tokens': None, 'cached_tokens': 0}}, 'model_name': 'gpt-4o-mini-2024-07-18', 'system_fingerprint': 'fp_e2bde53e6e', 'finish_reason': 'stop', 'logprobs': None}, id='run-b2da4727-886a-4905-94a6-cac3cf812d5d-0', usage_metadata={'input_tokens': 357, 'output_tokens': 524, 'total_tokens': 881, 'input_token_details': {'cache_read': 0}, 'output_token_details': {'reasoning': 0}})"
      ]
     },
     "execution_count": 10,
     "metadata": {},
     "output_type": "execute_result"
    }
   ],
   "source": [
    "# few-shot 예시\n",
    "llm.invoke(\n",
    "    \"\"\"\n",
    "    Question: 학교에서 300명의 학생이 있습니다. 이 중 40%는 4학년입니다. 4학년 학생들 중 절반은 축구 팀에 있고, 나머지 절반은 음악 클럽에 있습니다. \n",
    "              축구 팀에 몇 명의 학생이 있나요?\n",
    "    Answer: \n",
    "    1. 첫번째 단계: 학교에는 총 300명의 학생이 있으며, 이 중 40%가 4학년입니다. 따라서, 4학년 학생 수는 전체 학생 수의 40%에 해당합니다.\"\n",
    "    2. 두번째 단계: 4학년 학생들 중 절반은 축구 팀에 있습니다. 따라서, 축구 팀에 있는 4학년 학생 수는 4학년 학생 수의 절반에 해당합니다.\"\n",
    "    3. 세번째 단계: 첫 번째 단계에서 구한 4학년 학생 수의 절반을 두 번째 단계의 계산으로 구합니다.\n",
    "    따라서, 축구 팀에 있는 4학년 학생 수는 300 * 40% * 50% = 60명입니다.\n",
    "\n",
    "    Question: 학교에서 500명의 학생이 있습니다. 이 중 30%는 5학년이고, 20%는 6학년 학생입니다. \n",
    "              5학년 학생들 중 60%는 수학 동아리에 있고, 나머지는 과학 동아리에 있습니다. \n",
    "              6학년 학생들 중 70%는 수학 동아리에 있고, 나머지는 과학 동아리에 있습니다.\n",
    "              과학 동아리에는 몇 명의 학생이 있나요?\n",
    "    Answer:\n",
    "    \"\"\"\n",
    ")\n"
   ]
  },
  {
   "cell_type": "code",
   "execution_count": 11,
   "metadata": {},
   "outputs": [
    {
     "data": {
      "text/plain": [
       "AIMessage(content='먼저 주어진 정보를 바탕으로 각 학년의 학생 수를 계산해보겠습니다.\\n\\n1. **학생 수 계산**:\\n   - 총 학생 수: 500명\\n   - 5학년 학생 수: 30% × 500 = 0.3 × 500 = 150명\\n   - 6학년 학생 수: 20% × 500 = 0.2 × 500 = 100명\\n\\n2. **5학년 학생의 동아리 배분**:\\n   - 5학년 학생 중 수학 동아리에 속한 학생 수: 60% × 150 = 0.6 × 150 = 90명\\n   - 5학년 학생 중 과학 동아리에 속한 학생 수: 150명 - 90명 = 60명\\n\\n3. **6학년 학생의 동아리 배분**:\\n   - 6학년 학생 중 수학 동아리에 속한 학생 수: 70% × 100 = 0.7 × 100 = 70명\\n   - 6학년 학생 중 과학 동아리에 속한 학생 수: 100명 - 70명 = 30명\\n\\n4. **과학 동아리 학생 수 총합**:\\n   - 5학년 과학 동아리 학생 수: 60명\\n   - 6학년 과학 동아리 학생 수: 30명\\n   - 과학 동아리 총 학생 수: 60명 + 30명 = 90명\\n\\n따라서, 과학 동아리에는 총 **90명**의 학생이 있습니다.', additional_kwargs={'refusal': None}, response_metadata={'token_usage': {'completion_tokens': 351, 'prompt_tokens': 129, 'total_tokens': 480, 'completion_tokens_details': {'audio_tokens': None, 'reasoning_tokens': 0}, 'prompt_tokens_details': {'audio_tokens': None, 'cached_tokens': 0}}, 'model_name': 'gpt-4o-mini-2024-07-18', 'system_fingerprint': 'fp_e2bde53e6e', 'finish_reason': 'stop', 'logprobs': None}, id='run-e18dbdab-a175-4a4c-8bba-7b5ac4ee75d1-0', usage_metadata={'input_tokens': 129, 'output_tokens': 351, 'total_tokens': 480, 'input_token_details': {'cache_read': 0}, 'output_token_details': {'reasoning': 0}})"
      ]
     },
     "execution_count": 11,
     "metadata": {},
     "output_type": "execute_result"
    }
   ],
   "source": [
    "# think step by step\n",
    "llm.invoke(\n",
    "    \"\"\"\n",
    "    Question: 학교에서 500명의 학생이 있습니다. 이 중 30%는 5학년이고, 20%는 6학년 학생입니다. \n",
    "              5학년 학생들 중 60%는 수학 동아리에 있고, 나머지는 과학 동아리에 있습니다. \n",
    "              6학년 학생들 중 70%는 수학 동아리에 있고, 나머지는 과학 동아리에 있습니다.\n",
    "              과학 동아리에는 몇 명의 학생이 있나요?\n",
    "              Let's think step by step.\n",
    "    Answer:\n",
    "    \"\"\"\n",
    ")"
   ]
  },
  {
   "cell_type": "code",
   "execution_count": null,
   "metadata": {},
   "outputs": [],
   "source": []
  }
 ],
 "metadata": {
  "kernelspec": {
   "display_name": "chatbot-0lCeHk3W-py3.12",
   "language": "python",
   "name": "python3"
  },
  "language_info": {
   "codemirror_mode": {
    "name": "ipython",
    "version": 3
   },
   "file_extension": ".py",
   "mimetype": "text/x-python",
   "name": "python",
   "nbconvert_exporter": "python",
   "pygments_lexer": "ipython3",
   "version": "3.12.7"
  }
 },
 "nbformat": 4,
 "nbformat_minor": 2
}
