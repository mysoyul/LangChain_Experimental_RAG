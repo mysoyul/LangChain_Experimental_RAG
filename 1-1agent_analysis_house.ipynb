{
 "cells": [
  {
   "cell_type": "code",
   "execution_count": 1,
   "metadata": {},
   "outputs": [
    {
     "data": {
      "text/plain": [
       "True"
      ]
     },
     "execution_count": 1,
     "metadata": {},
     "output_type": "execute_result"
    }
   ],
   "source": [
    "# 환경 변수에서 API 키 가져오기\n",
    "import os\n",
    "from dotenv import load_dotenv\n",
    "\n",
    "load_dotenv()\n",
    "#OPENAI_API_KEY = os.getenv(\"OPENAI_API_KEY\")"
   ]
  },
  {
   "cell_type": "code",
   "execution_count": 2,
   "metadata": {},
   "outputs": [
    {
     "data": {
      "text/html": [
       "<div>\n",
       "<style scoped>\n",
       "    .dataframe tbody tr th:only-of-type {\n",
       "        vertical-align: middle;\n",
       "    }\n",
       "\n",
       "    .dataframe tbody tr th {\n",
       "        vertical-align: top;\n",
       "    }\n",
       "\n",
       "    .dataframe thead th {\n",
       "        text-align: right;\n",
       "    }\n",
       "</style>\n",
       "<table border=\"1\" class=\"dataframe\">\n",
       "  <thead>\n",
       "    <tr style=\"text-align: right;\">\n",
       "      <th></th>\n",
       "      <th>Id</th>\n",
       "      <th>MSSubClass</th>\n",
       "      <th>MSZoning</th>\n",
       "      <th>LotFrontage</th>\n",
       "      <th>LotArea</th>\n",
       "      <th>Street</th>\n",
       "      <th>Alley</th>\n",
       "      <th>LotShape</th>\n",
       "      <th>LandContour</th>\n",
       "      <th>Utilities</th>\n",
       "      <th>...</th>\n",
       "      <th>PoolArea</th>\n",
       "      <th>PoolQC</th>\n",
       "      <th>Fence</th>\n",
       "      <th>MiscFeature</th>\n",
       "      <th>MiscVal</th>\n",
       "      <th>MoSold</th>\n",
       "      <th>YrSold</th>\n",
       "      <th>SaleType</th>\n",
       "      <th>SaleCondition</th>\n",
       "      <th>SalePrice</th>\n",
       "    </tr>\n",
       "  </thead>\n",
       "  <tbody>\n",
       "    <tr>\n",
       "      <th>0</th>\n",
       "      <td>1</td>\n",
       "      <td>60</td>\n",
       "      <td>RL</td>\n",
       "      <td>65.0</td>\n",
       "      <td>8450</td>\n",
       "      <td>Pave</td>\n",
       "      <td>NaN</td>\n",
       "      <td>Reg</td>\n",
       "      <td>Lvl</td>\n",
       "      <td>AllPub</td>\n",
       "      <td>...</td>\n",
       "      <td>0</td>\n",
       "      <td>NaN</td>\n",
       "      <td>NaN</td>\n",
       "      <td>NaN</td>\n",
       "      <td>0</td>\n",
       "      <td>2</td>\n",
       "      <td>2008</td>\n",
       "      <td>WD</td>\n",
       "      <td>Normal</td>\n",
       "      <td>208500</td>\n",
       "    </tr>\n",
       "    <tr>\n",
       "      <th>1</th>\n",
       "      <td>2</td>\n",
       "      <td>20</td>\n",
       "      <td>RL</td>\n",
       "      <td>80.0</td>\n",
       "      <td>9600</td>\n",
       "      <td>Pave</td>\n",
       "      <td>NaN</td>\n",
       "      <td>Reg</td>\n",
       "      <td>Lvl</td>\n",
       "      <td>AllPub</td>\n",
       "      <td>...</td>\n",
       "      <td>0</td>\n",
       "      <td>NaN</td>\n",
       "      <td>NaN</td>\n",
       "      <td>NaN</td>\n",
       "      <td>0</td>\n",
       "      <td>5</td>\n",
       "      <td>2007</td>\n",
       "      <td>WD</td>\n",
       "      <td>Normal</td>\n",
       "      <td>181500</td>\n",
       "    </tr>\n",
       "    <tr>\n",
       "      <th>2</th>\n",
       "      <td>3</td>\n",
       "      <td>60</td>\n",
       "      <td>RL</td>\n",
       "      <td>68.0</td>\n",
       "      <td>11250</td>\n",
       "      <td>Pave</td>\n",
       "      <td>NaN</td>\n",
       "      <td>IR1</td>\n",
       "      <td>Lvl</td>\n",
       "      <td>AllPub</td>\n",
       "      <td>...</td>\n",
       "      <td>0</td>\n",
       "      <td>NaN</td>\n",
       "      <td>NaN</td>\n",
       "      <td>NaN</td>\n",
       "      <td>0</td>\n",
       "      <td>9</td>\n",
       "      <td>2008</td>\n",
       "      <td>WD</td>\n",
       "      <td>Normal</td>\n",
       "      <td>223500</td>\n",
       "    </tr>\n",
       "    <tr>\n",
       "      <th>3</th>\n",
       "      <td>4</td>\n",
       "      <td>70</td>\n",
       "      <td>RL</td>\n",
       "      <td>60.0</td>\n",
       "      <td>9550</td>\n",
       "      <td>Pave</td>\n",
       "      <td>NaN</td>\n",
       "      <td>IR1</td>\n",
       "      <td>Lvl</td>\n",
       "      <td>AllPub</td>\n",
       "      <td>...</td>\n",
       "      <td>0</td>\n",
       "      <td>NaN</td>\n",
       "      <td>NaN</td>\n",
       "      <td>NaN</td>\n",
       "      <td>0</td>\n",
       "      <td>2</td>\n",
       "      <td>2006</td>\n",
       "      <td>WD</td>\n",
       "      <td>Abnorml</td>\n",
       "      <td>140000</td>\n",
       "    </tr>\n",
       "    <tr>\n",
       "      <th>4</th>\n",
       "      <td>5</td>\n",
       "      <td>60</td>\n",
       "      <td>RL</td>\n",
       "      <td>84.0</td>\n",
       "      <td>14260</td>\n",
       "      <td>Pave</td>\n",
       "      <td>NaN</td>\n",
       "      <td>IR1</td>\n",
       "      <td>Lvl</td>\n",
       "      <td>AllPub</td>\n",
       "      <td>...</td>\n",
       "      <td>0</td>\n",
       "      <td>NaN</td>\n",
       "      <td>NaN</td>\n",
       "      <td>NaN</td>\n",
       "      <td>0</td>\n",
       "      <td>12</td>\n",
       "      <td>2008</td>\n",
       "      <td>WD</td>\n",
       "      <td>Normal</td>\n",
       "      <td>250000</td>\n",
       "    </tr>\n",
       "  </tbody>\n",
       "</table>\n",
       "<p>5 rows × 81 columns</p>\n",
       "</div>"
      ],
      "text/plain": [
       "   Id  MSSubClass MSZoning  LotFrontage  LotArea Street Alley LotShape  \\\n",
       "0   1          60       RL         65.0     8450   Pave   NaN      Reg   \n",
       "1   2          20       RL         80.0     9600   Pave   NaN      Reg   \n",
       "2   3          60       RL         68.0    11250   Pave   NaN      IR1   \n",
       "3   4          70       RL         60.0     9550   Pave   NaN      IR1   \n",
       "4   5          60       RL         84.0    14260   Pave   NaN      IR1   \n",
       "\n",
       "  LandContour Utilities  ... PoolArea PoolQC Fence MiscFeature MiscVal MoSold  \\\n",
       "0         Lvl    AllPub  ...        0    NaN   NaN         NaN       0      2   \n",
       "1         Lvl    AllPub  ...        0    NaN   NaN         NaN       0      5   \n",
       "2         Lvl    AllPub  ...        0    NaN   NaN         NaN       0      9   \n",
       "3         Lvl    AllPub  ...        0    NaN   NaN         NaN       0      2   \n",
       "4         Lvl    AllPub  ...        0    NaN   NaN         NaN       0     12   \n",
       "\n",
       "  YrSold  SaleType  SaleCondition  SalePrice  \n",
       "0   2008        WD         Normal     208500  \n",
       "1   2007        WD         Normal     181500  \n",
       "2   2008        WD         Normal     223500  \n",
       "3   2006        WD        Abnorml     140000  \n",
       "4   2008        WD         Normal     250000  \n",
       "\n",
       "[5 rows x 81 columns]"
      ]
     },
     "execution_count": 2,
     "metadata": {},
     "output_type": "execute_result"
    }
   ],
   "source": [
    "import pandas as pd \n",
    "\n",
    "train = pd.read_csv('./data/house/train.csv')\n",
    "\n",
    "train.head()"
   ]
  },
  {
   "cell_type": "code",
   "execution_count": 3,
   "metadata": {},
   "outputs": [],
   "source": [
    "from langchain_experimental.agents.agent_toolkits import create_pandas_dataframe_agent\n",
    "from langchain_openai import ChatOpenAI"
   ]
  },
  {
   "cell_type": "code",
   "execution_count": 4,
   "metadata": {},
   "outputs": [],
   "source": [
    "llm = ChatOpenAI(model='gpt-3.5-turbo-0125', temperature=0)\n",
    "\n",
    "agent_executor = create_pandas_dataframe_agent(\n",
    "    llm,\n",
    "    train,\n",
    "    agent_type=\"tool-calling\",\n",
    "    verbose=True,\n",
    "    return_intermediate_steps=False,\n",
    "    allow_dangerous_code=True\n",
    ")"
   ]
  },
  {
   "cell_type": "code",
   "execution_count": 5,
   "metadata": {},
   "outputs": [
    {
     "name": "stdout",
     "output_type": "stream",
     "text": [
      "\n",
      "\n",
      "\u001b[1m> Entering new AgentExecutor chain...\u001b[0m\n",
      "\u001b[32;1m\u001b[1;3m\n",
      "Invoking: `python_repl_ast` with `{'query': 'df.shape'}`\n",
      "\n",
      "\n",
      "\u001b[0m\u001b[36;1m\u001b[1;3m(1460, 81)\u001b[0m\u001b[32;1m\u001b[1;3m이 데이터프레임에는 1460개의 행과 81개의 열이 있습니다.\u001b[0m\n",
      "\n",
      "\u001b[1m> Finished chain.\u001b[0m\n"
     ]
    },
    {
     "data": {
      "text/plain": [
       "{'input': '행과 열의 개수는 얼마인가요?', 'output': '이 데이터프레임에는 1460개의 행과 81개의 열이 있습니다.'}"
      ]
     },
     "execution_count": 5,
     "metadata": {},
     "output_type": "execute_result"
    }
   ],
   "source": [
    "agent_executor.invoke('행과 열의 개수는 얼마인가요?')"
   ]
  },
  {
   "cell_type": "code",
   "execution_count": 6,
   "metadata": {},
   "outputs": [
    {
     "name": "stdout",
     "output_type": "stream",
     "text": [
      "\n",
      "\n",
      "\u001b[1m> Entering new AgentExecutor chain...\u001b[0m\n",
      "\u001b[32;1m\u001b[1;3m\n",
      "Invoking: `python_repl_ast` with `{'query': \"import matplotlib.pyplot as plt\\n\\nplt.hist(df['SalePrice'], bins=30, color='skyblue', edgecolor='black')\\nplt.xlabel('Sale Price')\\nplt.ylabel('Frequency')\\nplt.title('Distribution of Sale Prices')\\nplt.show()\"}`\n",
      "\n",
      "\n",
      "\u001b[0m"
     ]
    },
    {
     "data": {
      "image/png": "[encoded data removed]",
      "text/plain": [
       "<Figure size 640x480 with 1 Axes>"
      ]
     },
     "metadata": {},
     "output_type": "display_data"
    },
    {
     "name": "stdout",
     "output_type": "stream",
     "text": [
      "\u001b[36;1m\u001b[1;3m\u001b[0m\u001b[32;1m\u001b[1;3m주택가격의 분포를 나타낸 히스토그램이 위에 표시되었습니다.\u001b[0m\n",
      "\n",
      "\u001b[1m> Finished chain.\u001b[0m\n"
     ]
    }
   ],
   "source": [
    "response = agent_executor.invoke('주택가격 분포를 히스토그램으로 나타내주세요.')"
   ]
  },
  {
   "cell_type": "code",
   "execution_count": 7,
   "metadata": {},
   "outputs": [
    {
     "data": {
      "text/plain": [
       "{'input': '주택가격 분포를 히스토그램으로 나타내주세요.',\n",
       " 'output': '위의 히스토그램은 주택 가격의 분포를 나타내는 것입니다. 주택 가격이 x축에 있고 빈도수가 y축에 있습니다. 데이터셋에 따라 분포가 다를 수 있지만, 이 그래프를 통해 대략적인 주택 가격의 분포를 확인할 수 있습니다.'}"
      ]
     },
     "execution_count": 7,
     "metadata": {},
     "output_type": "execute_result"
    }
   ],
   "source": [
    "response"
   ]
  },
  {
   "cell_type": "code",
   "execution_count": 7,
   "metadata": {},
   "outputs": [],
   "source": [
    "llm = ChatOpenAI(model='gpt-4o-mini', temperature=0)\n",
    "\n",
    "agent_executor = create_pandas_dataframe_agent(\n",
    "    llm,\n",
    "    train,\n",
    "    agent_type=\"openai-tools\",\n",
    "    verbose=True,\n",
    "    return_intermediate_steps=True,\n",
    "    allow_dangerous_code=True\n",
    ")"
   ]
  },
  {
   "cell_type": "code",
   "execution_count": 8,
   "metadata": {},
   "outputs": [
    {
     "name": "stdout",
     "output_type": "stream",
     "text": [
      "\n",
      "\n",
      "\u001b[1m> Entering new AgentExecutor chain...\u001b[0m\n",
      "\u001b[32;1m\u001b[1;3m\n",
      "Invoking: `python_repl_ast` with `{'query': \"import matplotlib.pyplot as plt\\n\\n# 주택가격(SalePrice) 분포를 히스토그램으로 나타내기\\nplt.figure(figsize=(10, 6))\\nplt.hist(df['SalePrice'], bins=30, color='blue', alpha=0.7)\\nplt.title('Distribution of House Prices')\\nplt.xlabel('Sale Price')\\nplt.ylabel('Frequency')\\nplt.grid(axis='y', alpha=0.75)\\nplt.show()\"}`\n",
      "\n",
      "\n",
      "\u001b[0m"
     ]
    },
    {
     "data": {
      "image/png": "[encoded data removed]",
      "text/plain": [
       "<Figure size 1000x600 with 1 Axes>"
      ]
     },
     "metadata": {},
     "output_type": "display_data"
    },
    {
     "name": "stdout",
     "output_type": "stream",
     "text": [
      "\u001b[36;1m\u001b[1;3m\u001b[0m\u001b[32;1m\u001b[1;3m주택가격(SalePrice)의 분포를 히스토그램으로 나타냈습니다. 히스토그램은 주택가격의 빈도수를 보여주며, 가격대별로 주택의 수를 시각적으로 확인할 수 있습니다.\u001b[0m\n",
      "\n",
      "\u001b[1m> Finished chain.\u001b[0m\n"
     ]
    }
   ],
   "source": [
    "response = agent_executor.invoke('주택가격 분포를 히스토그램으로 나타내주세요.')"
   ]
  },
  {
   "cell_type": "code",
   "execution_count": 9,
   "metadata": {},
   "outputs": [
    {
     "data": {
      "text/plain": [
       "{'input': '주택가격 분포를 히스토그램으로 나타내주세요.',\n",
       " 'output': '주택가격(SalePrice)의 분포를 히스토그램으로 나타냈습니다. 히스토그램은 주택가격의 빈도수를 보여주며, 가격대별로 주택의 수를 시각적으로 확인할 수 있습니다.',\n",
       " 'intermediate_steps': [(ToolAgentAction(tool='python_repl_ast', tool_input={'query': \"import matplotlib.pyplot as plt\\n\\n# 주택가격(SalePrice) 분포를 히스토그램으로 나타내기\\nplt.figure(figsize=(10, 6))\\nplt.hist(df['SalePrice'], bins=30, color='blue', alpha=0.7)\\nplt.title('Distribution of House Prices')\\nplt.xlabel('Sale Price')\\nplt.ylabel('Frequency')\\nplt.grid(axis='y', alpha=0.75)\\nplt.show()\"}, log='\\nInvoking: `python_repl_ast` with `{\\'query\\': \"import matplotlib.pyplot as plt\\\\n\\\\n# 주택가격(SalePrice) 분포를 히스토그램으로 나타내기\\\\nplt.figure(figsize=(10, 6))\\\\nplt.hist(df[\\'SalePrice\\'], bins=30, color=\\'blue\\', alpha=0.7)\\\\nplt.title(\\'Distribution of House Prices\\')\\\\nplt.xlabel(\\'Sale Price\\')\\\\nplt.ylabel(\\'Frequency\\')\\\\nplt.grid(axis=\\'y\\', alpha=0.75)\\\\nplt.show()\"}`\\n\\n\\n', message_log=[AIMessageChunk(content='', additional_kwargs={'tool_calls': [{'index': 0, 'id': 'call_hiMrcyGPkG6jq2vyoZVpYWPc', 'function': {'arguments': '{\"query\":\"import matplotlib.pyplot as plt\\\\n\\\\n# 주택가격(SalePrice) 분포를 히스토그램으로 나타내기\\\\nplt.figure(figsize=(10, 6))\\\\nplt.hist(df[\\'SalePrice\\'], bins=30, color=\\'blue\\', alpha=0.7)\\\\nplt.title(\\'Distribution of House Prices\\')\\\\nplt.xlabel(\\'Sale Price\\')\\\\nplt.ylabel(\\'Frequency\\')\\\\nplt.grid(axis=\\'y\\', alpha=0.75)\\\\nplt.show()\"}', 'name': 'python_repl_ast'}, 'type': 'function'}]}, response_metadata={'finish_reason': 'tool_calls', 'model_name': 'gpt-4o-mini-2024-07-18', 'system_fingerprint': 'fp_34a54ae93c', 'service_tier': 'default'}, id='run--1f1a6862-6035-4852-af41-91c6c7f10d39', tool_calls=[{'name': 'python_repl_ast', 'args': {'query': \"import matplotlib.pyplot as plt\\n\\n# 주택가격(SalePrice) 분포를 히스토그램으로 나타내기\\nplt.figure(figsize=(10, 6))\\nplt.hist(df['SalePrice'], bins=30, color='blue', alpha=0.7)\\nplt.title('Distribution of House Prices')\\nplt.xlabel('Sale Price')\\nplt.ylabel('Frequency')\\nplt.grid(axis='y', alpha=0.75)\\nplt.show()\"}, 'id': 'call_hiMrcyGPkG6jq2vyoZVpYWPc', 'type': 'tool_call'}], tool_call_chunks=[{'name': 'python_repl_ast', 'args': '{\"query\":\"import matplotlib.pyplot as plt\\\\n\\\\n# 주택가격(SalePrice) 분포를 히스토그램으로 나타내기\\\\nplt.figure(figsize=(10, 6))\\\\nplt.hist(df[\\'SalePrice\\'], bins=30, color=\\'blue\\', alpha=0.7)\\\\nplt.title(\\'Distribution of House Prices\\')\\\\nplt.xlabel(\\'Sale Price\\')\\\\nplt.ylabel(\\'Frequency\\')\\\\nplt.grid(axis=\\'y\\', alpha=0.75)\\\\nplt.show()\"}', 'id': 'call_hiMrcyGPkG6jq2vyoZVpYWPc', 'index': 0, 'type': 'tool_call_chunk'}])], tool_call_id='call_hiMrcyGPkG6jq2vyoZVpYWPc'),\n",
       "   '')]}"
      ]
     },
     "execution_count": 9,
     "metadata": {},
     "output_type": "execute_result"
    }
   ],
   "source": [
    "response"
   ]
  },
  {
   "cell_type": "code",
   "execution_count": 10,
   "metadata": {},
   "outputs": [
    {
     "name": "stdout",
     "output_type": "stream",
     "text": [
      "[(ToolAgentAction(tool='python_repl_ast', tool_input={'query': \"import matplotlib.pyplot as plt\\n\\n# 주택가격(SalePrice) 분포를 히스토그램으로 나타내기\\nplt.figure(figsize=(10, 6))\\nplt.hist(df['SalePrice'], bins=30, color='blue', alpha=0.7)\\nplt.title('Distribution of House Prices')\\nplt.xlabel('Sale Price')\\nplt.ylabel('Frequency')\\nplt.grid(axis='y', alpha=0.75)\\nplt.show()\"}, log='\\nInvoking: `python_repl_ast` with `{\\'query\\': \"import matplotlib.pyplot as plt\\\\n\\\\n# 주택가격(SalePrice) 분포를 히스토그램으로 나타내기\\\\nplt.figure(figsize=(10, 6))\\\\nplt.hist(df[\\'SalePrice\\'], bins=30, color=\\'blue\\', alpha=0.7)\\\\nplt.title(\\'Distribution of House Prices\\')\\\\nplt.xlabel(\\'Sale Price\\')\\\\nplt.ylabel(\\'Frequency\\')\\\\nplt.grid(axis=\\'y\\', alpha=0.75)\\\\nplt.show()\"}`\\n\\n\\n', message_log=[AIMessageChunk(content='', additional_kwargs={'tool_calls': [{'index': 0, 'id': 'call_hiMrcyGPkG6jq2vyoZVpYWPc', 'function': {'arguments': '{\"query\":\"import matplotlib.pyplot as plt\\\\n\\\\n# 주택가격(SalePrice) 분포를 히스토그램으로 나타내기\\\\nplt.figure(figsize=(10, 6))\\\\nplt.hist(df[\\'SalePrice\\'], bins=30, color=\\'blue\\', alpha=0.7)\\\\nplt.title(\\'Distribution of House Prices\\')\\\\nplt.xlabel(\\'Sale Price\\')\\\\nplt.ylabel(\\'Frequency\\')\\\\nplt.grid(axis=\\'y\\', alpha=0.75)\\\\nplt.show()\"}', 'name': 'python_repl_ast'}, 'type': 'function'}]}, response_metadata={'finish_reason': 'tool_calls', 'model_name': 'gpt-4o-mini-2024-07-18', 'system_fingerprint': 'fp_34a54ae93c', 'service_tier': 'default'}, id='run--1f1a6862-6035-4852-af41-91c6c7f10d39', tool_calls=[{'name': 'python_repl_ast', 'args': {'query': \"import matplotlib.pyplot as plt\\n\\n# 주택가격(SalePrice) 분포를 히스토그램으로 나타내기\\nplt.figure(figsize=(10, 6))\\nplt.hist(df['SalePrice'], bins=30, color='blue', alpha=0.7)\\nplt.title('Distribution of House Prices')\\nplt.xlabel('Sale Price')\\nplt.ylabel('Frequency')\\nplt.grid(axis='y', alpha=0.75)\\nplt.show()\"}, 'id': 'call_hiMrcyGPkG6jq2vyoZVpYWPc', 'type': 'tool_call'}], tool_call_chunks=[{'name': 'python_repl_ast', 'args': '{\"query\":\"import matplotlib.pyplot as plt\\\\n\\\\n# 주택가격(SalePrice) 분포를 히스토그램으로 나타내기\\\\nplt.figure(figsize=(10, 6))\\\\nplt.hist(df[\\'SalePrice\\'], bins=30, color=\\'blue\\', alpha=0.7)\\\\nplt.title(\\'Distribution of House Prices\\')\\\\nplt.xlabel(\\'Sale Price\\')\\\\nplt.ylabel(\\'Frequency\\')\\\\nplt.grid(axis=\\'y\\', alpha=0.75)\\\\nplt.show()\"}', 'id': 'call_hiMrcyGPkG6jq2vyoZVpYWPc', 'index': 0, 'type': 'tool_call_chunk'}])], tool_call_id='call_hiMrcyGPkG6jq2vyoZVpYWPc'), '')]\n",
      "1\n"
     ]
    }
   ],
   "source": [
    "intermediate_actions = response['intermediate_steps']\n",
    "print(intermediate_actions)\n",
    "print(len(intermediate_actions))"
   ]
  },
  {
   "cell_type": "code",
   "execution_count": 11,
   "metadata": {},
   "outputs": [
    {
     "data": {
      "text/plain": [
       "\"import matplotlib.pyplot as plt\\n\\n# 주택가격(SalePrice) 분포를 히스토그램으로 나타내기\\nplt.figure(figsize=(10, 6))\\nplt.hist(df['SalePrice'], bins=30, color='blue', alpha=0.7)\\nplt.title('Distribution of House Prices')\\nplt.xlabel('Sale Price')\\nplt.ylabel('Frequency')\\nplt.grid(axis='y', alpha=0.75)\\nplt.show()\""
      ]
     },
     "execution_count": 11,
     "metadata": {},
     "output_type": "execute_result"
    }
   ],
   "source": [
    "intermediate_actions[0][0].tool_input['query']"
   ]
  },
  {
   "cell_type": "code",
   "execution_count": 12,
   "metadata": {},
   "outputs": [
    {
     "data": {
      "text/plain": [
       "\"import matplotlib.pyplot as plt\\n\\n# 주택가격(SalePrice) 분포를 히스토그램으로 나타내기\\nplt.figure(figsize=(10, 6))\\nplt.hist(df['SalePrice'], bins=30, color='blue', alpha=0.7)\\nplt.title('Distribution of House Prices')\\nplt.xlabel('Sale Price')\\nplt.ylabel('Frequency')\\nplt.grid(axis='y', alpha=0.75)\\nplt.show()\""
      ]
     },
     "execution_count": 12,
     "metadata": {},
     "output_type": "execute_result"
    }
   ],
   "source": [
    "python_code = response['intermediate_steps'][0][0].tool_input['query']\n",
    "python_code"
   ]
  },
  {
   "cell_type": "code",
   "execution_count": 13,
   "metadata": {},
   "outputs": [
    {
     "data": {
      "image/png": "[encoded data removed]",
      "text/plain": [
       "<Figure size 1000x600 with 1 Axes>"
      ]
     },
     "metadata": {},
     "output_type": "display_data"
    }
   ],
   "source": [
    "df = train.copy()\n",
    "\n",
    "exec(python_code)"
   ]
  }
 ],
 "metadata": {
  "kernelspec": {
   "display_name": "chatbot-0lCeHk3W-py3.12",
   "language": "python",
   "name": "python3"
  },
  "language_info": {
   "codemirror_mode": {
    "name": "ipython",
    "version": 3
   },
   "file_extension": ".py",
   "mimetype": "text/x-python",
   "name": "python",
   "nbconvert_exporter": "python",
   "pygments_lexer": "ipython3",
   "version": "3.12.7"
  }
 },
 "nbformat": 4,
 "nbformat_minor": 2
}
