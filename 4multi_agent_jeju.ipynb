{
 "cells": [
  {
   "cell_type": "code",
   "execution_count": 1,
   "metadata": {},
   "outputs": [],
   "source": [
    "# 환경 변수에서 API 키 가져오기\n",
    "import os\n",
    "from dotenv import load_dotenv\n",
    "load_dotenv()\n",
    "\n",
    "OPENAI_API_KEY = os.getenv(\"OPENAI_API_KEY\")\n",
    "TAVILY_API_KEY = os.getenv(\"TAVILY_API_KEY\")"
   ]
  },
  {
   "cell_type": "code",
   "execution_count": null,
   "metadata": {},
   "outputs": [],
   "source": [
    "from langchain_openai import ChatOpenAI\n",
    "\n",
    "# LLM\n",
    "llm = ChatOpenAI(model='gpt-4o-mini', temperature=0)"
   ]
  },
  {
   "cell_type": "code",
   "execution_count": 3,
   "metadata": {},
   "outputs": [],
   "source": [
    "# CrewAI 라이브러리에서 필요한 클래스 가져오기\n",
    "from crewai import Agent, Task, Crew, Process\n",
    "from crewai.tools import tool\n",
    "from langchain_community.tools.tavily_search import TavilySearchResults\n",
    "\n",
    "#search_tool = TavilySearchResults()\n",
    "@tool(\"tavily_search_wrapper\")\n",
    "def tavily_search_wrapper(query: str) -> str:\n",
    "    \"\"\"Tavily 검색 도구 래퍼\"\"\"\n",
    "    search_tool = TavilySearchResults(api_key=TAVILY_API_KEY)\n",
    "    return search_tool.run(query)"
   ]
  },
  {
   "cell_type": "code",
   "execution_count": 4,
   "metadata": {},
   "outputs": [
    {
     "name": "stderr",
     "output_type": "stream",
     "text": [
      "c:\\Users\\vega2\\AppData\\Local\\pypoetry\\Cache\\virtualenvs\\chatbot-0lCeHk3W-py3.12\\Lib\\site-packages\\pysbd\\segmenter.py:66: SyntaxWarning: invalid escape sequence '\\s'\n",
      "  for match in re.finditer('{0}\\s*'.format(re.escape(sent)), self.original_text):\n",
      "c:\\Users\\vega2\\AppData\\Local\\pypoetry\\Cache\\virtualenvs\\chatbot-0lCeHk3W-py3.12\\Lib\\site-packages\\pysbd\\lang\\arabic.py:29: SyntaxWarning: invalid escape sequence '\\.'\n",
      "  txt = re.sub('(?<={0})\\.'.format(am), '∯', txt)\n",
      "c:\\Users\\vega2\\AppData\\Local\\pypoetry\\Cache\\virtualenvs\\chatbot-0lCeHk3W-py3.12\\Lib\\site-packages\\pysbd\\lang\\persian.py:29: SyntaxWarning: invalid escape sequence '\\.'\n",
      "  txt = re.sub('(?<={0})\\.'.format(am), '∯', txt)\n",
      "c:\\Users\\vega2\\AppData\\Local\\pypoetry\\Cache\\virtualenvs\\chatbot-0lCeHk3W-py3.12\\Lib\\site-packages\\qdrant_client\\http\\models\\models.py:758: SyntaxWarning: invalid escape sequence '\\&'\n",
      "  description=\"Check that the field is empty, alternative syntax for `is_empty: \\&quot;field_name\\&quot;`\",\n",
      "c:\\Users\\vega2\\AppData\\Local\\pypoetry\\Cache\\virtualenvs\\chatbot-0lCeHk3W-py3.12\\Lib\\site-packages\\qdrant_client\\http\\models\\models.py:762: SyntaxWarning: invalid escape sequence '\\&'\n",
      "  description=\"Check that the field is null, alternative syntax for `is_null: \\&quot;field_name\\&quot;`\",\n",
      "c:\\Users\\vega2\\AppData\\Local\\pypoetry\\Cache\\virtualenvs\\chatbot-0lCeHk3W-py3.12\\Lib\\site-packages\\chromadb\\utils\\embedding_functions\\openai_embedding_function.py:54: DeprecationWarning: Direct api_key configuration will not be persisted. Please use environment variables via api_key_env_var for persistent storage.\n",
      "  warnings.warn(\n",
      "c:\\Users\\vega2\\AppData\\Local\\pypoetry\\Cache\\virtualenvs\\chatbot-0lCeHk3W-py3.12\\Lib\\site-packages\\alembic\\config.py:564: DeprecationWarning: No path_separator found in configuration; falling back to legacy splitting on spaces, commas, and colons for prepend_sys_path.  Consider adding path_separator=os to Alembic config.\n",
      "  util.warn_deprecated(\n",
      "c:\\Users\\vega2\\AppData\\Local\\pypoetry\\Cache\\virtualenvs\\chatbot-0lCeHk3W-py3.12\\Lib\\site-packages\\chromadb\\api\\collection_configuration.py:347: DeprecationWarning: legacy embedding function config: The CHROMA_OPENAI_API_KEY environment variable is not set.\n",
      "  return json.dumps(create_collection_configuration_to_json(config))\n",
      "Inserting batches in chromadb: 100%|██████████| 1/1 [00:00<00:00,  1.17it/s]\n"
     ]
    }
   ],
   "source": [
    "# PDF Search Tool\n",
    "from crewai_tools import PDFSearchTool\n",
    "\n",
    "pdf_tool = PDFSearchTool(pdf='./data/제주_코스별_여행지.pdf')"
   ]
  },
  {
   "cell_type": "code",
   "execution_count": 5,
   "metadata": {},
   "outputs": [],
   "source": [
    "# Custom Tool\n",
    "#from crewai_tools import tool\n",
    "from crewai.tools import tool\n",
    "\n",
    "from selenium import webdriver\n",
    "from selenium.webdriver.chrome.service import Service\n",
    "from webdriver_manager.chrome import ChromeDriverManager\n",
    "from selenium.webdriver.common.by import By\n",
    "from selenium.webdriver.common.keys import Keys\n",
    "from selenium.webdriver.support.ui import WebDriverWait\n",
    "from selenium.webdriver.support import expected_conditions as EC\n",
    "from bs4 import BeautifulSoup\n",
    "import time\n",
    "\n",
    "@tool(\"search_place_info\")\n",
    "def search_place_info(place_name: str) -> str:\n",
    "    \"\"\"\n",
    "    Searches for a location on Google Maps.\n",
    "    Returns operating hours, address, phone number, and fees.\n",
    "    \"\"\"\n",
    "\n",
    "    # Chrome 드라이버 설정\n",
    "    options = webdriver.ChromeOptions()\n",
    "    options.add_argument('--headless') \n",
    "\n",
    "    service = Service(ChromeDriverManager().install())\n",
    "\n",
    "    driver = webdriver.Chrome(service=service, options=options)\n",
    "    driver.get(\"https://www.google.com/maps/\")\n",
    "    driver.implicitly_wait(10)\n",
    "\n",
    "\n",
    "    # 검색창에 입력하기\n",
    "    input_search = driver.find_element(By.ID, 'searchboxinput')\n",
    "    input_search.send_keys(place_name)\n",
    "    driver.implicitly_wait(5)\n",
    "    input_search.send_keys(Keys.RETURN)\n",
    "    driver.implicitly_wait(5)\n",
    "    time.sleep(3)\n",
    "\n",
    "\n",
    "    # 장소가 여러 개 검색된 경우\n",
    "    if f\"{place_name}에대한검색결과\" in driver.page_source.replace(\" \", \"\"):\n",
    "        search_results = driver.find_elements(By.CSS_SELECTOR, 'div > div > div > div > a')\n",
    "\n",
    "        for n, item in enumerate(search_results):\n",
    "            try:\n",
    "                if place_name in item.get_attribute('aria-label'):\n",
    "                    item.click()\n",
    "                    driver.implicitly_wait(5)\n",
    "                    time.sleep(3)\n",
    "                    break\n",
    "\n",
    "            except:\n",
    "                pass\n",
    "    # 장소 정보 가져오기\n",
    "    soup = BeautifulSoup(driver.page_source, 'html.parser')\n",
    "    place_info = soup.find_all('div', attrs={'aria-label': place_name})\n",
    "    place_info_text = \"\\n\".join([info.text for info in place_info])\n",
    "\n",
    "    driver.quit()\n",
    "\n",
    "    return place_info_text"
   ]
  },
  {
   "cell_type": "code",
   "execution_count": 6,
   "metadata": {},
   "outputs": [],
   "source": [
    "place_name = \"제주민속촌\"\n",
    "\n",
    "# Chrome 드라이버 설정\n",
    "options = webdriver.ChromeOptions()\n",
    "# options.add_argument('--headless') \n",
    "\n",
    "service = Service(ChromeDriverManager().install())\n",
    "\n",
    "driver = webdriver.Chrome(service=service, options=options)\n",
    "driver.get(\"https://www.google.com/maps/\")\n",
    "driver.implicitly_wait(10)"
   ]
  },
  {
   "cell_type": "code",
   "execution_count": 7,
   "metadata": {},
   "outputs": [],
   "source": [
    "# 검색창에 입력하기\n",
    "input_search = driver.find_element(By.ID, 'searchboxinput')\n",
    "input_search.send_keys(place_name)\n",
    "driver.implicitly_wait(5)\n",
    "input_search.send_keys(Keys.RETURN)\n",
    "driver.implicitly_wait(5)\n",
    "time.sleep(3)"
   ]
  },
  {
   "cell_type": "code",
   "execution_count": 6,
   "metadata": {},
   "outputs": [],
   "source": [
    "# div > div > div > div > a"
   ]
  },
  {
   "cell_type": "code",
   "execution_count": 8,
   "metadata": {},
   "outputs": [],
   "source": [
    "# 장소가 여러 개 검색된 경우\n",
    "if f\"{place_name}에대한검색결과\" in driver.page_source.replace(\" \", \"\"):\n",
    "    search_results = driver.find_elements(By.CSS_SELECTOR, 'div > div > div > div > a')\n",
    "\n",
    "    for n, item in enumerate(search_results):\n",
    "        try:\n",
    "            if place_name in item.get_attribute('aria-label'):\n",
    "                item.click()\n",
    "                driver.implicitly_wait(5)\n",
    "                time.sleep(3)\n",
    "                break\n",
    "        except:\n",
    "            pass"
   ]
  },
  {
   "cell_type": "code",
   "execution_count": 9,
   "metadata": {},
   "outputs": [],
   "source": [
    "# 장소 정보 가져오기\n",
    "soup = BeautifulSoup(driver.page_source, 'html.parser')\n",
    "place_info = soup.find_all('div', attrs={'aria-label': place_name})\n",
    "place_info_text = \"\\n\".join([info.text for info in place_info])"
   ]
  },
  {
   "cell_type": "code",
   "execution_count": 10,
   "metadata": {},
   "outputs": [
    {
     "name": "stdout",
     "output_type": "stream",
     "text": [
      "사진 보기제주민속촌4.1(4,632)토속 박물관·개요티켓리뷰정보경로저장주변휴대전화로 보내기공유1890년대 마을을 재건한 곳으로 100개가 넘는 건축물이 있으며 오래된 공예품이 전시되어 있습니다.  스폰서광고주: Trip.com 제주민속촌 입장권 - 성인₩13,489 · 4.4(231)입장료 포함  입장권검색 결과 정보장소 입장 가능제주민속촌 공식 사이트₩15,000Klook ₩9,900취소 수수료 없음 · 즉시 확인옵션 1개 더보기Interpark ₩13,500옵션 2개 더보기  펼치기    제주특별자치도 서귀포시 표선면 민속해안로 631-34영업 중 ⋅ 오후 6:30에 영업 종료 월요일오전 8:30~오후 6:30화요일오전 8:30~오후 6:30수요일오전 8:30~오후 6:30목요일오전 8:30~오후 6:30금요일오전 8:30~오후 6:30토요일오전 8:30~오후 6:30일요일오전 8:30~오후 6:30새로운 영업시간 제안jejufolk.com064-787-4501  수정 제안하기  고객의 업데이트 學習幾句濟州島的方言：\n",
      "王吧里 ：男人\n",
      "能吧里 ：女人\n",
      "童吧里：年轻男人\n",
      "皮吧里：年轻女人6달 전  인기 시간대월요일 이 장소를 방문한 기록을 기준으로 합니다.AM 6시AM 9시PM 12시PM 3시PM 6시PM 9시실시간한가한 시간대임AM 6시AM 9시PM 12시PM 3시PM 6시PM 9시AM 6시AM 9시PM 12시PM 3시PM 6시PM 9시AM 6시AM 9시PM 12시PM 3시PM 6시PM 9시AM 6시AM 9시PM 12시PM 3시PM 6시PM 9시AM 6시AM 9시PM 12시PM 3시PM 6시PM 9시AM 6시AM 9시PM 12시PM 3시PM 6시PM 9시사진 및 동영상 전체최신1일 전동영상스트리트 뷰 및 360°  사진 및 동영상 추가  입점 매장 카페 돗돗헌  4.6(10)커피숍/커피 전문점한라산아래첫마을  4.7(3)음식점7-Eleven  5.0(1)편의점질문과 답변(Google 번역) 입장료는 얼마인가요? 내부에는 무엇이 흥미로운가요?\n",
      "\n",
      "(원본)\n",
      "How much is the entrance fee? What's interesting inside?(Google 번역) 입장료는 만원 정도.\n",
      "제주도의 오래된 집들입니다.\n",
      "\n",
      "(원본)\n",
      "The admission fee is about ten thousand won.\n",
      "They are old houses in Jeju Island.답변 4개 보기6년 전질문 더보기커뮤니티에 질문하기  리뷰 요약 리뷰는 허위 리뷰 및 스팸과 같은 부적절한 콘텐츠를 감지하기 위해 자동으로 처리됩니다. 신고된 리뷰의 경우 Google 정책 또는 법적 의무를 준수하기 위해 게시가 중단될 수 있습니다.543214.1리뷰 4,632개  리뷰 작성  리뷰 리뷰 검색정렬전체전통 94볼거리 74산책 68공연 64대한민국의 텔레비전 드라마 15한복 13재현 10당나귀 9민속놀이 7항공권 7+6   하하하호호호지역 가이드 · 리뷰 145개 · 사진 408장2달 전 날씨가 추워서 그런지 사람이 별로 없었어요. 시간대를 잘못 갔는지 공연도 없고 별로 즐길거리가 없어서 아쉬웠어요. 날 좋은 날 가면 좋을 것 같아요 3개 더보기좋아요 공유       노동시인지역 가이드 · 리뷰 127개 · 사진 1,330장5달 전 19세기의 제주도를 체험할 수 있는 약 100여 채에 달하는 전통 가옥과 약 8000여 점 생활 소품을 관람할 수 있습니다. 규모가 있어 둘러보는데 시간이 제법 걸립니다.방문일… 자세히 47개 더보기좋아요 공유       키작은연필지역 가이드 · 리뷰 59개 · 사진 275장4달 전 오랜만에 방문했어요\n",
      "연휴라 사람들 없어서 편하게 구경 하였네요~ ^^방문일평일… 자세히 5개 더보기좋아요 공유  리뷰 더보기 (4,629)  함께 검색한 장소 성읍민속마을3.8(3,602)관광 명소제주민속촌5.0(1)버스 정류장제주민속관광타운4.0(56)관광 명소濟州民俗村5.0(2)박물관제주민속촌(가상정류소)리뷰 없음버스 정류장  웹 검색결과   데이터 정보\n"
     ]
    }
   ],
   "source": [
    "print(place_info_text)"
   ]
  },
  {
   "cell_type": "code",
   "execution_count": 11,
   "metadata": {},
   "outputs": [],
   "source": [
    "driver.quit()"
   ]
  },
  {
   "cell_type": "code",
   "execution_count": 12,
   "metadata": {},
   "outputs": [],
   "source": [
    "# Agent\n",
    "jeju_tour_planning_expert = Agent(\n",
    "    role='Jeju Tour Planning Expert',\n",
    "    goal='Select the best locations within Jeju based on weather, season, prices, and tourist preferences',\n",
    "    backstory='An expert in analyzing local data to pick ideal destinations within Jeju Island',\n",
    "    cache=True,\n",
    "    verbose=True,\n",
    "    tools=[tavily_search_wrapper, pdf_tool, search_place_info],\n",
    "    allow_delegation=False,\n",
    "    llm=llm,\n",
    "    max_iter=3,\n",
    "    max_rpm=10,\n",
    ")\n",
    "\n",
    "jeju_local_expert = Agent(\n",
    "    role='Jeju Local Expert',\n",
    "    goal='Provide the BEST insights about the selected locations in Jeju',\n",
    "    backstory=\"\"\"A knowledgeable local guide with extensive information\n",
    "    about Jeju's attractions, customs, and hidden gems\"\"\",\n",
    "    cache=True,\n",
    "    verbose=True,\n",
    "    tools=[tavily_search_wrapper, pdf_tool, search_place_info],\n",
    "    allow_delegation=False,\n",
    "    llm=llm,\n",
    "    max_iter=3,\n",
    "    max_rpm=10,\n",
    ")\n",
    "\n",
    "\n",
    "jeju_travel_concierge = Agent(\n",
    "    role='Jeju Custom Travel Concierge',\n",
    "    goal=\"\"\"Create the most amazing travel itineraries for Jeju including budget and packing suggestions\"\"\",\n",
    "    backstory=\"\"\"Specialist in Jeju travel planning and logistics with \n",
    "    extensive experience\"\"\",\n",
    "    cache=True,\n",
    "    verbose=True,\n",
    "    tools=[tavily_search_wrapper],\n",
    "    allow_delegation=False,\n",
    "    llm=llm,\n",
    "    max_iter=3,\n",
    "    max_rpm=10,\n",
    ")\n",
    "\n"
   ]
  },
  {
   "cell_type": "code",
   "execution_count": 13,
   "metadata": {},
   "outputs": [],
   "source": [
    "# Tasks\n",
    "jeju_location_selection_task = Task(\n",
    "    description='Identify the best locations within Jeju for visiting based on current weather, season, prices, and tourist preferences.',\n",
    "    agent=jeju_tour_planning_expert,\n",
    "    expected_output='A list of recommended locations in Jeju, including reasons for each selection'\n",
    ")\n",
    "\n",
    "jeju_local_insights_task = Task(\n",
    "    description='Provide detailed insights and information about selected locations in Jeju, including attractions, customs, and hidden gems.',\n",
    "    agent=jeju_local_expert,\n",
    "    expected_output='Comprehensive information about each location, including what to see, do, and eat'\n",
    ")\n",
    "\n",
    "jeju_travel_itinerary_task = Task(\n",
    "    description='Create a detailed travel itinerary for Jeju that includes budgeting, packing suggestions, accommodations, and transportation.',\n",
    "    agent=jeju_travel_concierge,\n",
    "    expected_output='A complete travel plan for Jeju, including a day-by-day itinerary, budget estimates, and packing list. Key locations and place names should be provided in both English and Korean, such as \"Museum(박물관)\".'\n",
    ")"
   ]
  },
  {
   "cell_type": "code",
   "execution_count": 14,
   "metadata": {},
   "outputs": [
    {
     "name": "stderr",
     "output_type": "stream",
     "text": [
      "c:\\Users\\vega2\\AppData\\Local\\pypoetry\\Cache\\virtualenvs\\chatbot-0lCeHk3W-py3.12\\Lib\\site-packages\\chromadb\\utils\\embedding_functions\\openai_embedding_function.py:54: DeprecationWarning: Direct api_key configuration will not be persisted. Please use environment variables via api_key_env_var for persistent storage.\n",
      "  warnings.warn(\n",
      "c:\\Users\\vega2\\AppData\\Local\\pypoetry\\Cache\\virtualenvs\\chatbot-0lCeHk3W-py3.12\\Lib\\site-packages\\chromadb\\api\\collection_configuration.py:347: DeprecationWarning: legacy embedding function config: The CHROMA_OPENAI_API_KEY environment variable is not set.\n",
      "  return json.dumps(create_collection_configuration_to_json(config))\n"
     ]
    }
   ],
   "source": [
    "# Crew 생성  \n",
    "\n",
    "trip_crew = Crew(\n",
    "    agents=[jeju_tour_planning_expert, jeju_local_expert, jeju_travel_concierge],\n",
    "    tasks=[jeju_location_selection_task, jeju_local_insights_task, jeju_travel_itinerary_task],\n",
    "    process=Process.hierarchical,\n",
    "    manager_llm=ChatOpenAI(model=\"gpt-4o-mini\"),   # gpt-4o로 변경 가능. 단, 비용 과금에 유의 (gpt-4o는 비용이 높음)\n",
    "    respect_context_window=True,  \n",
    "    memory=True,  \n",
    "    planning=True, \n",
    ")\n"
   ]
  },
  {
   "cell_type": "code",
   "execution_count": 15,
   "metadata": {},
   "outputs": [],
   "source": [
    "# Process 실행\n",
    "result = trip_crew.kickoff()"
   ]
  },
  {
   "cell_type": "code",
   "execution_count": 16,
   "metadata": {},
   "outputs": [
    {
     "name": "stdout",
     "output_type": "stream",
     "text": [
      "### Jeju Travel Itinerary\n",
      "\n",
      "**Travel Dates: September (3 days)**\n",
      "\n",
      "---\n",
      "\n",
      "#### Day 1: Arrival & Explore Seongsan Ilchulbong (Sunrise Peak)\n",
      "\n",
      "- **Accommodation**: \n",
      "  - **Ocean Suites Jeju Hotel** - 8.3/10 from 8629 reviews. [Book here](https://www.trivago.com/en-US/opr/hotels-near-seongsan-ilchulbong?search=500-1620365)\n",
      "  - **LOTTE City Hotel Jeju** - 8.7/10 from 8841 reviews. [Book here](https://www.agoda.com/en-au/hotels-near-seongsan-ilchulbong-peak/attractions/jeju-kr.html)\n",
      "  \n",
      "- **Budget Estimate**: \n",
      "  - Accommodation: $100-$125 per night\n",
      "  - Dinner (Seafood by the seaside): $20\n",
      "  - Transportation (Rental car): $80 per day \n",
      "  - **Total Day 1 Expenses**: ~$200\n",
      "\n",
      "- **Activities**: \n",
      "  - Arrive at Jeju and check-in at your chosen hotel.\n",
      "  - Visit Seongsan Ilchulbong for a late afternoon hike to enjoy the views and the sunset.\n",
      "  - Dinner at a local seafood restaurant post-hike. Suggestions include grilled fish and sashimi.\n",
      "\n",
      "---\n",
      "\n",
      "#### Day 2: Hiking Hallasan Mountain & Jeju Folk Village\n",
      "\n",
      "- **Accommodation**: Same as Day 1\n",
      "\n",
      "- **Budget Estimate**:\n",
      "  - Lunch: $15 (packed meal)\n",
      "  - Entrance fees: $5 (for Jeju Folk Village)\n",
      "  - Dinner (local BBQ): $30 \n",
      "  - **Total Day 2 Expenses**: ~$150\n",
      "\n",
      "- **Activities**:\n",
      "  - Early morning trek up Hallasan Mountain (4-6 hours).\n",
      "  - Lunch in a nearby café or picnic.\n",
      "  - Visit Jeju Folk Village to explore traditional heritage (performances and crafts).\n",
      "  - Dinner at a BBQ restaurant and enjoy Jeju’s black pork.\n",
      "\n",
      "---\n",
      "\n",
      "#### Day 3: Hiking Olle Trails & Departure\n",
      "\n",
      "- **Accommodation**: Check-out, no overnight stay.\n",
      "\n",
      "- **Budget Estimate**:\n",
      "  - Lunch: $10 (snack stalls along the trail)\n",
      "  - Transportation (return to airport): $40 \n",
      "  - **Total Day 3 Expenses**: ~$50\n",
      "  \n",
      "- **Activities**:\n",
      "  - Enjoy hiking on Olle Trails—pick a scenic route such as Trail 7 for breathtaking coastal views.\n",
      "  - Engage with locals and possibly partake in citrus fruit picking.\n",
      "  - Return to your accommodation to check out and head to the airport.\n",
      "\n",
      "---\n",
      "\n",
      "### Packing List\n",
      "- Lightweight clothing (easy to layer) for the mild temperatures (21°C - 25°C)\n",
      "- Waterproof jacket (for occasional rain)\n",
      "- Hiking boots and comfortable walking shoes\n",
      "- Sunblock and sunglasses\n",
      "- Reusable water bottle\n",
      "- Snacks for hikes (local fruit and rice cakes)\n",
      "- Personal essentials (medication, toiletries)\n",
      "\n",
      "### Conclusion\n",
      "This itinerary combines natural beauty, cultural experiences, and local cuisine, ensuring a memorable visit to Jeju in September. With the weather being ideal for outdoor activities, this plan aligns perfectly with the seasonal offerings of the island.\n"
     ]
    }
   ],
   "source": [
    "print(result.raw)"
   ]
  },
  {
   "cell_type": "code",
   "execution_count": null,
   "metadata": {},
   "outputs": [],
   "source": []
  }
 ],
 "metadata": {
  "kernelspec": {
   "display_name": "chatbot-0lCeHk3W-py3.12",
   "language": "python",
   "name": "python3"
  },
  "language_info": {
   "codemirror_mode": {
    "name": "ipython",
    "version": 3
   },
   "file_extension": ".py",
   "mimetype": "text/x-python",
   "name": "python",
   "nbconvert_exporter": "python",
   "pygments_lexer": "ipython3",
   "version": "3.12.7"
  }
 },
 "nbformat": 4,
 "nbformat_minor": 2
}
