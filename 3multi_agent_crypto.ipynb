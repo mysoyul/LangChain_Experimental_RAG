{
 "cells": [
  {
   "cell_type": "code",
   "execution_count": 1,
   "metadata": {},
   "outputs": [],
   "source": [
    "# 환경 변수에서 API 키 가져오기\n",
    "import os\n",
    "from dotenv import load_dotenv\n",
    "\n",
    "load_dotenv()\n",
    "OPENAI_API_KEY = os.getenv(\"OPENAI_API_KEY\")\n",
    "TAVILY_API_KEY = os.getenv(\"TAVILY_API_KEY\")"
   ]
  },
  {
   "cell_type": "code",
   "execution_count": null,
   "metadata": {},
   "outputs": [
    {
     "name": "stderr",
     "output_type": "stream",
     "text": [
      "c:\\Users\\vega2\\AppData\\Local\\pypoetry\\Cache\\virtualenvs\\chatbot-0lCeHk3W-py3.12\\Lib\\site-packages\\tqdm\\auto.py:21: TqdmWarning: IProgress not found. Please update jupyter and ipywidgets. See https://ipywidgets.readthedocs.io/en/stable/user_install.html\n",
      "  from .autonotebook import tqdm as notebook_tqdm\n"
     ]
    }
   ],
   "source": [
    "# CrewAI 라이브러리에서 필요한 클래스 가져오기\n",
    "from langchain_openai import ChatOpenAI\n",
    "\n",
    "# LLM\n",
    "llm = ChatOpenAI(\n",
    "    #model='gpt-3.5-turbo', \n",
    "    model='gpt-4o-mini',\n",
    "    temperature=0,\n",
    "    api_key=OPENAI_API_KEY)"
   ]
  },
  {
   "cell_type": "code",
   "execution_count": 8,
   "metadata": {},
   "outputs": [],
   "source": [
    "# Search Tool\n",
    "from crewai import Agent, Task, Crew, Process\n",
    "from crewai.tools import tool\n",
    "from langchain_community.tools.tavily_search import TavilySearchResults\n",
    "\n",
    "\n",
    "#search_tool = TavilySearchResults(api_key=TAVILY_API_KEY)\n",
    "@tool(\"tavily_search_wrapper\")\n",
    "def tavily_search_wrapper(query: str) -> str:\n",
    "    \"\"\"Tavily 검색 도구 래퍼\"\"\"\n",
    "    search_tool = TavilySearchResults(api_key=TAVILY_API_KEY)\n",
    "    return search_tool.run(query)"
   ]
  },
  {
   "cell_type": "code",
   "execution_count": 9,
   "metadata": {},
   "outputs": [],
   "source": [
    "# Agent\n",
    "researcher = Agent(\n",
    "role='Market Researcher',\n",
    "goal='Uncover emerging trends and investment opportunities in the cryptocurrency market in 2024.',\n",
    "backstory='Identify groundbreaking trends and actionable insights.',\n",
    "verbose=True,\n",
    "tools=[tavily_search_wrapper],\n",
    "allow_delegation=False,\n",
    "llm=llm,\n",
    "max_iter=3,\n",
    "max_rpm=10,\n",
    ")\n",
    "\n",
    "analyst = Agent(\n",
    "role='Investment Analyst',\n",
    "goal='Analyze cryptocurrency market data to extract actionable insights and investment leads.',\n",
    "backstory='Draw meaningful conclusions from cryptocurrency market data.',\n",
    "verbose=True,\n",
    "allow_delegation=False,\n",
    "llm=llm,\n",
    ")"
   ]
  },
  {
   "cell_type": "code",
   "execution_count": 10,
   "metadata": {},
   "outputs": [],
   "source": [
    "# Tasks\n",
    "research_task = Task(\n",
    "description='Explore the internet to pinpoint emerging trends and potential investment opportunities.',\n",
    "agent=researcher,\n",
    "expected_output='A detailed summary of the reserch results in string format'\n",
    ")\n",
    "\n",
    "\n",
    "analyst_task = Task(\n",
    "description='Analyze the provided cryptocurrency market data to extract key insights and compile a concise report.',\n",
    "agent=analyst,\n",
    "expected_output='A refined finalized version of the report in string format'\n",
    ")"
   ]
  },
  {
   "cell_type": "code",
   "execution_count": 11,
   "metadata": {},
   "outputs": [],
   "source": [
    "#`Crew` is a group of agents working together to accomplish a task\n",
    "crypto_crew = Crew(\n",
    "agents=[researcher, analyst],\n",
    "tasks=[research_task, analyst_task],\n",
    "process=Process.sequential  \n",
    ")"
   ]
  },
  {
   "cell_type": "code",
   "execution_count": 12,
   "metadata": {},
   "outputs": [
    {
     "name": "stdout",
     "output_type": "stream",
     "text": [
      "\u001b[1m\u001b[95m# Agent:\u001b[00m \u001b[1m\u001b[92mMarket Researcher\u001b[00m\n",
      "\u001b[95m## Task:\u001b[00m \u001b[92mExplore the internet to pinpoint emerging trends and potential investment opportunities.\u001b[00m\n",
      "\n",
      "\n",
      "\u001b[1m\u001b[95m# Agent:\u001b[00m \u001b[1m\u001b[92mMarket Researcher\u001b[00m\n",
      "\u001b[95m## Thought:\u001b[00m \u001b[92mI need to explore the internet for emerging trends and investment opportunities in the cryptocurrency market for 2024.\u001b[00m\n",
      "\u001b[95m## Using tool:\u001b[00m \u001b[92mtavily_search_wrapper\u001b[00m\n",
      "\u001b[95m## Tool Input:\u001b[00m \u001b[92m\n",
      "\"{\\\"query\\\": \\\"emerging trends investment opportunities cryptocurrency market 2024\\\"}\"\u001b[00m\n",
      "\u001b[95m## Tool Output:\u001b[00m \u001b[92m\n",
      "[{'title': 'Cryptocurrency Market to grow by USD 34.5 Billion (2024-2028 ...', 'url': 'https://www.prnewswire.com/news-releases/cryptocurrency-market-to-grow-by-usd-34-5-billion-2024-2028-driven-by-rising-investments-in-digital-assets-report-on-ais-impact-on-market-trends---technavio-302331706.html', 'content': \"NEW YORK, Dec. 15, 2024 /PRNewswire/ -- Report on how AI is redefining market landscape - The global [cryptocurrency market](http://www.technavio.com/report/cryptocurrency-market-industry-analysis?utm_source=prnewswire&utm_medium=pressrelease&utm_campaign=ai_trend_v2_report_week50_2024&utm_content=IRTNTR74469) size is estimated to grow by USD 34.5 billion from 2024-2028, according to Technavio. The market is estimated to grow at a CAGR of 16.64% during the forecast period. Rising investment in [...] Technavio has announced its latest market research report titled Global Cryptocurrency Market 2024-2028\\n\\nAI-Powered Market Evolution Insights. Our comprehensive market report ready with the latest trends, growth opportunities, and strategic analysis- **[View Free Sample Report PDF](http://www.technavio.com/talk-to-us?report=IRTNTR74469&type=sample&src=report&utm_source=prnewswire&utm_medium=pressrelease&utm_campaign=ai_trend_v2_rfs1_week50_2024&utm_content=IRTNTR74469)** [...] **[Download complimentary Sample Report](http://www.technavio.com/talk-to-us?report=IRTNTR74469&type=sample&src=report&utm_source=prnewswire&utm_medium=pressrelease&utm_campaign=ai_trend_v2_rfs2_week50_2024&utm_content=IRTNTR74469)** to gain insights into AI's impact on market dynamics, emerging trends, and future opportunities- including forecast (2024-2028) and historic data (2018 - 2022)\\n\\n**Research Analysis**\", 'score': 0.8660535}, {'title': 'Best Cryptocurrencies to Invest in 2024: A Comprehensive Guide - itez', 'url': 'https://itez.com/en/blog/education/best-crypto-to-invest-in-2024', 'content': 'Amid Donald Trump’s victory in the 2024 US presidential election, the cryptocurrency market is experiencing a genuinely bullish surge, with Bitcoin (BTC) setting new all-time highs day after day. As a result, more and more people are turning their attention to the digital asset industry and even considering investing.', 'score': 0.84215075}, {'title': 'Top 7 Cryptocurrency Trends (2025 and Beyond) - Exploding Topics', 'url': 'https://explodingtopics.com/blog/cryptocurrency-trends', 'content': 'The past year has been a wild ride in the cryptocurrency space.\\n\\nOnce ripe with fraud and falling prices, the crypto market surged surged back in 2024.\\n\\nThe cryptocurrency market is currently at a [$2.66 trillion](https://www.coingecko.com/en/global-charts) market cap, not far off its record high in 2021.\\n\\nThe rising trend, however, was impacted by the US trade tariffs in Q1 of 2025, causing a short-term decline and high volatility in Bitcoin. [...] BlackRock and Fidelity have emerged as the [early leaders in the Bitcoin ETF market](https://www.forbes.com/sites/digital-assets/2024/03/24/blackrock-and-fidelity-etf-bombshell-triggers-a-massive-75-trillion-bitcoin-price-prediction/?sh=3ac79cfd1531)—Blackrock holds $15 billion in Bitcoin assets and Fidelity has $9 billion. [...] ...more\\n\\n### 1. Bull Market Emerges After Approval of ETFs\\n\\nThe value of Bitcoin [surged 150%](https://www.nytimes.com/2023/12/05/business/bitcoin-price-etf.html) coming into 2024.\\n\\nAnd many believe this bull run could [last well into 2025](https://www.nasdaq.com/articles/is-a-bitcoin-bull-run-coming).\\n\\nThe price of Bitcoin began 2024 at about $44,000 but had grown to nearly $70,000 by late May.', 'score': 0.8235701}, {'title': '2024 Cryptocurrency Adoption and Sentiment Report - Security.org', 'url': 'https://www.security.org/digital-security/cryptocurrency-annual-consumer-report/2024/', 'content': 'Current owners and non-owners who are familiar with cryptocurrencies think that 2024 could be an excellent year for crypto prices. The SEC is evaluating how to approve a spot Bitcoin exchange-traded fund (ETF). An ETF is a security that tracks the price of a single commodity so that people can invest in it on the stock market without directly purchasing it.', 'score': 0.7971311}]\u001b[00m\n",
      "\n",
      "\n",
      "\u001b[1m\u001b[95m# Agent:\u001b[00m \u001b[1m\u001b[92mMarket Researcher\u001b[00m\n",
      "\u001b[95m## Final Answer:\u001b[00m \u001b[92m\n",
      "The cryptocurrency market is poised for significant growth in 2024, with a projected increase of USD 34.5 billion from 2024 to 2028, driven by rising investments in digital assets and the impact of artificial intelligence on market dynamics. The market is expected to grow at a compound annual growth rate (CAGR) of 16.64% during this period, indicating robust investment opportunities.\n",
      "\n",
      "Amidst a bullish surge following Donald Trump’s victory in the 2024 US presidential election, Bitcoin (BTC) has been setting new all-time highs, attracting more investors to the digital asset industry. The cryptocurrency market has rebounded significantly, reaching a market cap of approximately $2.66 trillion, not far from its record high in 2021.\n",
      "\n",
      "Key trends include the emergence of Bitcoin exchange-traded funds (ETFs), with major financial institutions like BlackRock and Fidelity leading the charge. BlackRock holds $15 billion in Bitcoin assets, while Fidelity has $9 billion. The approval of ETFs has contributed to a bull market, with Bitcoin's value surging by 150% at the start of 2024, climbing from around $44,000 to nearly $70,000 by late May.\n",
      "\n",
      "Additionally, there is a growing sentiment among both current cryptocurrency owners and non-owners that 2024 could be an excellent year for crypto prices. The SEC is currently evaluating the approval of a spot Bitcoin ETF, which would allow investors to gain exposure to Bitcoin without directly purchasing it.\n",
      "\n",
      "Overall, the combination of favorable market conditions, institutional interest, and potential regulatory advancements positions the cryptocurrency market as a promising investment opportunity in 2024.\u001b[00m\n",
      "\n",
      "\n",
      "\u001b[1m\u001b[95m# Agent:\u001b[00m \u001b[1m\u001b[92mInvestment Analyst\u001b[00m\n",
      "\u001b[95m## Task:\u001b[00m \u001b[92mAnalyze the provided cryptocurrency market data to extract key insights and compile a concise report.\u001b[00m\n",
      "\n",
      "\n",
      "\u001b[1m\u001b[95m# Agent:\u001b[00m \u001b[1m\u001b[92mInvestment Analyst\u001b[00m\n",
      "\u001b[95m## Final Answer:\u001b[00m \u001b[92m\n",
      "**Cryptocurrency Market Analysis Report - 2024 Outlook**\n",
      "\n",
      "**Executive Summary:**\n",
      "The cryptocurrency market is on the brink of substantial growth, with projections indicating an increase of USD 34.5 billion from 2024 to 2028. This growth is primarily driven by rising investments in digital assets and the transformative impact of artificial intelligence on market dynamics. The market is expected to experience a compound annual growth rate (CAGR) of 16.64% during this period, presenting robust investment opportunities for stakeholders.\n",
      "\n",
      "**Market Overview:**\n",
      "Following the bullish surge triggered by Donald Trump’s victory in the 2024 US presidential election, Bitcoin (BTC) has reached new all-time highs, drawing increased interest from investors in the digital asset space. The cryptocurrency market has rebounded significantly, achieving a market capitalization of approximately $2.66 trillion, nearing its record high from 2021.\n",
      "\n",
      "**Key Trends:**\n",
      "1. **Bitcoin Exchange-Traded Funds (ETFs):** The emergence of Bitcoin ETFs has been a pivotal trend, with major financial institutions such as BlackRock and Fidelity leading the way. BlackRock currently holds $15 billion in Bitcoin assets, while Fidelity manages $9 billion. The approval of these ETFs has catalyzed a bull market, with Bitcoin's value soaring by 150% at the beginning of 2024, rising from around $44,000 to nearly $70,000 by late May.\n",
      "\n",
      "2. **Investor Sentiment:** There is a growing optimism among both current cryptocurrency holders and potential investors regarding the prospects for crypto prices in 2024. This sentiment is bolstered by the anticipated approval of a spot Bitcoin ETF by the SEC, which would enable investors to gain exposure to Bitcoin without the need for direct purchases.\n",
      "\n",
      "3. **Institutional Interest:** The increasing participation of institutional investors in the cryptocurrency market is a significant factor contributing to its growth. The substantial investments from firms like BlackRock and Fidelity signal a shift towards mainstream acceptance of digital assets.\n",
      "\n",
      "**Conclusion:**\n",
      "The combination of favorable market conditions, heightened institutional interest, and potential regulatory advancements positions the cryptocurrency market as a promising investment opportunity in 2024. Investors should closely monitor developments related to Bitcoin ETFs and regulatory approvals, as these factors will likely influence market dynamics and investment strategies moving forward. The outlook for the cryptocurrency market remains optimistic, with significant potential for growth and returns in the coming years. \n",
      "\n",
      "**Recommendations:**\n",
      "- Investors should consider diversifying their portfolios to include Bitcoin and other cryptocurrencies, particularly in light of the anticipated growth and institutional backing.\n",
      "- Staying informed about regulatory changes and ETF approvals will be crucial for making timely investment decisions.\n",
      "- Engaging with emerging technologies, such as artificial intelligence, may provide additional insights into market trends and investment opportunities.\n",
      "\n",
      "This report serves as a comprehensive analysis of the current cryptocurrency market landscape and its future potential, providing actionable insights for investors looking to capitalize on the upcoming growth phase.\u001b[00m\n",
      "\n",
      "\n"
     ]
    }
   ],
   "source": [
    "#`kickoff` method starts the crew's process\n",
    "result = crypto_crew.kickoff()"
   ]
  },
  {
   "cell_type": "code",
   "execution_count": null,
   "metadata": {},
   "outputs": [],
   "source": []
  }
 ],
 "metadata": {
  "kernelspec": {
   "display_name": "chatbot-0lCeHk3W-py3.12",
   "language": "python",
   "name": "python3"
  },
  "language_info": {
   "codemirror_mode": {
    "name": "ipython",
    "version": 3
   },
   "file_extension": ".py",
   "mimetype": "text/x-python",
   "name": "python",
   "nbconvert_exporter": "python",
   "pygments_lexer": "ipython3",
   "version": "3.12.7"
  }
 },
 "nbformat": 4,
 "nbformat_minor": 2
}
