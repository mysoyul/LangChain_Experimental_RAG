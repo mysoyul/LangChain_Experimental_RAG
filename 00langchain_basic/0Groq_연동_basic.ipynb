{
 "cells": [
  {
   "cell_type": "code",
   "execution_count": 1,
   "metadata": {},
   "outputs": [
    {
     "name": "stdout",
     "output_type": "stream",
     "text": [
      "Hello LangChain\n"
     ]
    }
   ],
   "source": [
    "print(\"Hello LangChain\")"
   ]
  },
  {
   "cell_type": "code",
   "execution_count": 2,
   "metadata": {},
   "outputs": [
    {
     "name": "stdout",
     "output_type": "stream",
     "text": [
      "gsk_5\n"
     ]
    }
   ],
   "source": [
    "import os\n",
    "from dotenv import load_dotenv\n",
    "from langchain_core.prompts import ChatPromptTemplate\n",
    "from langchain_openai import ChatOpenAI \n",
    "\n",
    "\n",
    "load_dotenv(dotenv_path='../.env')\n",
    "OPENAI_API_KEY = os.getenv(\"OPENAI_API_KEY\")\n",
    "print(OPENAI_API_KEY[:5])\n"
   ]
  },
  {
   "cell_type": "code",
   "execution_count": 3,
   "metadata": {},
   "outputs": [
    {
     "data": {
      "text/plain": [
       "ChatPromptTemplate(input_variables=['input'], input_types={}, partial_variables={}, messages=[SystemMessagePromptTemplate(prompt=PromptTemplate(input_variables=[], input_types={}, partial_variables={}, template='당신은 개발자입니다.'), additional_kwargs={}), HumanMessagePromptTemplate(prompt=PromptTemplate(input_variables=['input'], input_types={}, partial_variables={}, template='{input}'), additional_kwargs={})])"
      ]
     },
     "execution_count": 3,
     "metadata": {},
     "output_type": "execute_result"
    }
   ],
   "source": [
    "# prompt + llm + output \n",
    "\n",
    "# prompt\n",
    "prompt = ChatPromptTemplate.from_messages(\n",
    "    [ (\"system\", \"당신은 개발자입니다.\") , \n",
    "     (\"user\", \"{input}\") ]\n",
    ")\n",
    "prompt"
   ]
  },
  {
   "cell_type": "code",
   "execution_count": 4,
   "metadata": {},
   "outputs": [],
   "source": [
    "prompt_text = prompt.format(input=\"파이썬은 무엇인가요? 자세하게 설명해주세요\")"
   ]
  },
  {
   "cell_type": "code",
   "execution_count": 5,
   "metadata": {},
   "outputs": [
    {
     "data": {
      "text/plain": [
       "ChatOpenAI(client=<openai.resources.chat.completions.completions.Completions object at 0x00000239B6743680>, async_client=<openai.resources.chat.completions.completions.AsyncCompletions object at 0x00000239B6869610>, root_client=<openai.OpenAI object at 0x00000239B61B5E80>, root_async_client=<openai.AsyncOpenAI object at 0x00000239B684AD80>, model_name='meta-llama/llama-4-scout-17b-16e-instruct', temperature=0.7, model_kwargs={}, openai_api_key=SecretStr('**********'), openai_api_base='https://api.groq.com/openai/v1')"
      ]
     },
     "execution_count": 5,
     "metadata": {},
     "output_type": "execute_result"
    }
   ],
   "source": [
    "#llm = ChatOpenAI(api_key=OPENAI_API_KEY, model_name=\"gpt-3.5-turbo-0125\")\n",
    "\n",
    "# Groq API를 사용하는 ChatOpenAI 인스턴스 생성\n",
    "llm = ChatOpenAI(\n",
    "    api_key=OPENAI_API_KEY,\n",
    "    base_url=\"https://api.groq.com/openai/v1\",  # Groq API 엔드포인트\n",
    "    model=\"meta-llama/llama-4-scout-17b-16e-instruct\",  # Spring AI와 동일한 모델\n",
    "    temperature=0.7\n",
    ")\n",
    "llm"
   ]
  },
  {
   "cell_type": "code",
   "execution_count": 6,
   "metadata": {},
   "outputs": [
    {
     "name": "stdout",
     "output_type": "stream",
     "text": [
      "응답: 파이썬! 프로그래밍 언어 중에서 가장 인기 있고 사랑받는 언어 중 하나입니다. 저는 개발자로서 파이썬에 대해 자세히 설명해 드리겠습니다.\n",
      "\n",
      "**파이썬이란?**\n",
      "\n",
      "파이썬은 1991년 Guido van Rossum에 의해 개발된 고수준 프로그래밍 언어입니다. 파이썬은 쉬운 문법과 강력한 기능으로 인해 빠르게 인기를 얻었습니다. 현재는 웹 개발, 데이터 분석, 인공지능, 과학 컴퓨팅 등 다양한 분야에서 사용됩니다.\n",
      "\n",
      "**파이썬의 특징**\n",
      "\n",
      "파이썬의 주요 특징은 다음과 같습니다.\n",
      "\n",
      "1. **쉬운 문법**: 파이썬의 문법은 매우 간단하고 읽기 쉽습니다. 이는 개발자가 빠르게 코드를 작성하고 테스트할 수 있도록 도와줍니다.\n",
      "2. **고수준 언어**: 파이썬은 고수준 언어로서, 개발자가 컴퓨터의 내부 구조에 대해 자세히 알 필요 없이 프로그래밍할 수 있습니다.\n",
      "3. **객체 지향**: 파이썬은 객체 지향 프로그래밍(OOP) 개념을 지원합니다. 이는 코드의 재사용성과 모듈화를 가능하게 합니다.\n",
      "4. **동적 타이핑**: 파이썬은 동적 타이핑 언어로, 변수의 타입을 선언할 필요가 없습니다.\n",
      "5. **대규모 라이브러리**: 파이썬은 방대한 라이브러리와 모듈을 보유하고 있습니다. 이는 개발자가 다양한 작업을 쉽게 수행할 수 있도록 도와줍니다.\n",
      "\n",
      "**파이썬의 응용 분야**\n",
      "\n",
      "파이썬은 다양한 분야에서 사용됩니다. 몇 가지 예를 들겠습니다.\n",
      "\n",
      "1. **웹 개발**: 파이썬은 웹 개발을 위해 널리 사용됩니다. Flask, Django와 같은 웹 프레임워크를 사용하여 웹 애플리케이션을 구축할 수 있습니다.\n",
      "2. **데이터 분석**: 파이썬은 데이터 분석을 위해 매우 인기가 있습니다. NumPy, pandas, scikit-learn과 같은 라이브러리를 사용하여 데이터를 분석하고 모델링할 수 있습니다.\n",
      "3. **인공지능**: 파이썬은 인공지능 및 머신러닝을 위해 널리 사용됩니다. TensorFlow, Keras와 같은 라이브러리를 사용하여 신경망을 구축하고 훈련할 수 있습니다.\n",
      "4. **과학 컴퓨팅**: 파이썬은 과학 컴퓨팅을 위해 사용됩니다. SciPy, NumPy와 같은 라이브러리를 사용하여 과학적 계산을 수행할 수 있습니다.\n",
      "\n",
      "**파이썬의 장점**\n",
      "\n",
      "파이썬의 장점은 다음과 같습니다.\n",
      "\n",
      "1. **쉬운 학습**: 파이썬은 쉬운 문법과 간단한 구조로 인해 학습하기 쉽습니다.\n",
      "2. **빠른 개발**: 파이썬은 빠른 개발을 가능하게 합니다. 개발자가 빠르게 코드를 작성하고 테스트할 수 있습니다.\n",
      "3. **대규모 커뮤니티**: 파이썬은 대규모 커뮤니티를 보유하고 있습니다. 개발자가 서로 소통하고 지식을 공유할 수 있습니다.\n",
      "\n",
      "**결론**\n",
      "\n",
      "파이썬은 쉽고 강력한 프로그래밍 언어입니다. 다양한 분야에서 사용되며, 개발자가 빠르게 코드를 작성하고 테스트할 수 있도록 도와줍니다. 파이썬은 쉬운 학습, 빠른 개발, 대규모 커뮤니티 등의 장점을 가지고 있습니다. 저는 개발자로서 파이썬을 매우 좋아하며, 많은 프로젝트에서 파이썬을 사용합니다.\n"
     ]
    }
   ],
   "source": [
    "try:\n",
    "    response = llm.invoke(prompt_text)\n",
    "    print(\"응답:\", response.content)\n",
    "except Exception as e:\n",
    "    print(f\"오류 발생: {e}\")"
   ]
  },
  {
   "cell_type": "markdown",
   "metadata": {},
   "source": [
    "# LCEL"
   ]
  },
  {
   "cell_type": "code",
   "execution_count": 7,
   "metadata": {},
   "outputs": [],
   "source": [
    "from langchain_core.output_parsers import StrOutputParser\n",
    "\n",
    "output_parser = StrOutputParser()"
   ]
  },
  {
   "cell_type": "code",
   "execution_count": 8,
   "metadata": {},
   "outputs": [],
   "source": [
    "chain = prompt | llm | output_parser"
   ]
  },
  {
   "cell_type": "code",
   "execution_count": 9,
   "metadata": {},
   "outputs": [],
   "source": [
    "response = chain.invoke({\"input\":\"지구의 자전주기는 얼마인가요?\"})"
   ]
  },
  {
   "cell_type": "code",
   "execution_count": 10,
   "metadata": {},
   "outputs": [
    {
     "name": "stdout",
     "output_type": "stream",
     "text": [
      "지구의 자전주기는 24시간입니다.\n"
     ]
    }
   ],
   "source": [
    "print(response)"
   ]
  }
 ],
 "metadata": {
  "kernelspec": {
   "display_name": "chatbot-0lCeHk3W-py3.12",
   "language": "python",
   "name": "python3"
  },
  "language_info": {
   "codemirror_mode": {
    "name": "ipython",
    "version": 3
   },
   "file_extension": ".py",
   "mimetype": "text/x-python",
   "name": "python",
   "nbconvert_exporter": "python",
   "pygments_lexer": "ipython3",
   "version": "3.12.7"
  }
 },
 "nbformat": 4,
 "nbformat_minor": 2
}
