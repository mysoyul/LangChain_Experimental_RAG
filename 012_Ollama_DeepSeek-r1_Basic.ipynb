{
 "cells": [
  {
   "cell_type": "markdown",
   "metadata": {},
   "source": [
    "#### 1. 패키지 설치"
   ]
  },
  {
   "cell_type": "code",
   "execution_count": null,
   "metadata": {},
   "outputs": [
    {
     "name": "stdout",
     "output_type": "stream",
     "text": [
      "Note: you may need to restart the kernel to use updated packages.\n",
      "Note: you may need to restart the kernel to use updated packages.\n"
     ]
    }
   ],
   "source": [
    "# %pip install -q langchain\n",
    "# %pip install -q langchain-ollama"
   ]
  },
  {
   "cell_type": "markdown",
   "metadata": {},
   "source": [
    "#### 로컬 Ollama로 설치한 deepseek-r1:1.5b 모델을 사용하기\n",
    "##### ollama run deepseek-r1:1.5b"
   ]
  },
  {
   "cell_type": "code",
   "execution_count": 1,
   "metadata": {},
   "outputs": [
    {
     "name": "stderr",
     "output_type": "stream",
     "text": [
      "C:\\Users\\vega2\\AppData\\Local\\Temp\\ipykernel_47344\\633809197.py:6: LangChainDeprecationWarning: The class `Ollama` was deprecated in LangChain 0.3.1 and will be removed in 1.0.0. An updated version of the class exists in the :class:`~langchain-ollama package and should be used instead. To use it run `pip install -U :class:`~langchain-ollama` and import as `from :class:`~langchain_ollama import OllamaLLM``.\n",
      "  llm = Ollama(model=\"deepseek-r1:1.5b\")\n",
      "C:\\Users\\vega2\\AppData\\Local\\Temp\\ipykernel_47344\\633809197.py:15: LangChainDeprecationWarning: The class `LLMChain` was deprecated in LangChain 0.1.17 and will be removed in 1.0. Use :meth:`~RunnableSequence, e.g., `prompt | llm`` instead.\n",
      "  chain = LLMChain(llm=llm, prompt=prompt_template)\n"
     ]
    },
    {
     "name": "stdout",
     "output_type": "stream",
     "text": [
      "<class 'dict'>\n",
      "{'question': 'What is LangChain?', 'text': \"<think>\\n\\n</think>\\n\\nLangChain is a modern approach to machine learning that integrates the power of AI with the principles of natural language processing (NLP). It allows developers and researchers to focus on creating intelligent models rather than building the infrastructure around them. Here are the key components and concepts:\\n\\n1. **Neural-to-Text Generation**: The foundation of LangChain is the neural network, particularly models like GPT-3 or BERT, which can process text and generate new text based on patterns learned from vast amounts of data.\\n\\n2. **End-to-End Learning**: LangChain enables developers to build models without needing to write extensive code for NLP tasks. Instead, users specify what the model needs to do (e.g., predict a specific sentence) and the architecture determines how it processes the input text.\\n\\n3. **Scalability**: The approach is highly scalable. Larger projects can leverage more resources and computational power when building and running models on multiple LangChain platforms like AWS's LangChain Workspaces or Google Cloud's Cloud Functions.\\n\\n4. **Applications**: LangChain is used in various applications such as question answering, summarization, dialogue systems, creative writing, content recommendation, text-to-speech, and more.\\n\\n5. **Community and Tools**: The LangChain ecosystem includes tools and platforms that make it easy to build and run models. Examples include AWS LangChain Workspaces, Google Cloud Functions, and other AI-focused cloud services.\\n\\nLangChain shifts the focus from building complex NLP models to deploying them as black-box components in end-to-end systems, which can handle a wide range of tasks efficiently.\"}\n",
      "<think>\n",
      "\n",
      "</think>\n",
      "\n",
      "LangChain is a modern approach to machine learning that integrates the power of AI with the principles of natural language processing (NLP). It allows developers and researchers to focus on creating intelligent models rather than building the infrastructure around them. Here are the key components and concepts:\n",
      "\n",
      "1. **Neural-to-Text Generation**: The foundation of LangChain is the neural network, particularly models like GPT-3 or BERT, which can process text and generate new text based on patterns learned from vast amounts of data.\n",
      "\n",
      "2. **End-to-End Learning**: LangChain enables developers to build models without needing to write extensive code for NLP tasks. Instead, users specify what the model needs to do (e.g., predict a specific sentence) and the architecture determines how it processes the input text.\n",
      "\n",
      "3. **Scalability**: The approach is highly scalable. Larger projects can leverage more resources and computational power when building and running models on multiple LangChain platforms like AWS's LangChain Workspaces or Google Cloud's Cloud Functions.\n",
      "\n",
      "4. **Applications**: LangChain is used in various applications such as question answering, summarization, dialogue systems, creative writing, content recommendation, text-to-speech, and more.\n",
      "\n",
      "5. **Community and Tools**: The LangChain ecosystem includes tools and platforms that make it easy to build and run models. Examples include AWS LangChain Workspaces, Google Cloud Functions, and other AI-focused cloud services.\n",
      "\n",
      "LangChain shifts the focus from building complex NLP models to deploying them as black-box components in end-to-end systems, which can handle a wide range of tasks efficiently.\n"
     ]
    }
   ],
   "source": [
    "from langchain.llms import Ollama\n",
    "from langchain.prompts import PromptTemplate\n",
    "from langchain.chains import LLMChain\n",
    "\n",
    "# Ollama를 사용하여 로컬에서 실행 중인 deepseek-r1 모델을 로드\n",
    "llm = Ollama(model=\"deepseek-r1:1.5b\")\n",
    "\n",
    "# 프롬프트 템플릿 정의\n",
    "prompt_template = PromptTemplate(\n",
    "    input_variables=[\"question\"],\n",
    "    template=\"Q: {question}\\nA:\"\n",
    ")\n",
    "\n",
    "# LLMChain 생성\n",
    "chain = LLMChain(llm=llm, prompt=prompt_template)\n",
    "\n",
    "# 질문을 입력하고 모델의 응답을 받음\n",
    "question = \"What is LangChain?\"\n",
    "response = chain.invoke({\"question\": question})\n",
    "\n",
    "# 결과 출력\n",
    "print(type(response))\n",
    "print(response)\n",
    "print(response[\"text\"])"
   ]
  },
  {
   "cell_type": "markdown",
   "metadata": {},
   "source": [
    "##### 최신버전 LangChain에서는 ChatOllama와 RunnableSequence(prompt | llm) 를 사용"
   ]
  },
  {
   "cell_type": "code",
   "execution_count": null,
   "metadata": {},
   "outputs": [
    {
     "name": "stdout",
     "output_type": "stream",
     "text": [
      "<class 'langchain_core.messages.ai.AIMessage'>\n",
      "content='<think>\\nAlright, so I\\'m trying to figure out what Python is. I know it\\'s a programming language, but I\\'m not entirely sure how it works or why we need it. Let me break this down step by step.\\n\\nFirst off, from what I remember, Python is one of the most popular programming languages used worldwide. It\\'s known for its simplicity and readability, which makes it easier for new programmers to learn compared to more complex languages like C++ or Java. That probably means Python has a lot of built-in functions and modules that make development faster.\\n\\nI\\'ve heard terms like \"module\" before; I think these are like libraries that other programs can use to extend their functionality. Maybe there are standard packages in Python that developers use for various tasks, which saves them time by not having to write everything from scratch.\\n\\nNow, considering the name, \"Python.\" It sounds a bit older and more formal compared to languages like JavaScript or Ruby. But isn\\'t it used in a wide range of fields today? I know it\\'s common among software development teams, data scientists, web developers, and even in some areas of finance and education.\\n\\nI remember something about syntax. When I was learning programming before, the syntax was often considered difficult because Python uses indentation to define blocks of code, which is different from other languages that might use braces or semicolons. Understanding correct indentation can be a bit tricky at first, but once you get the hang of it, it makes writing code much smoother.\\n\\nVariables in Python are pretty straightforward—just like in many programming languages, they\\'re declared with a name and assigned values using an equals sign. These variables can hold integers, strings, booleans, or other data types, which means there\\'s versatility in how you handle different kinds of information in your programs.\\n\\nFunctions and methods sound more advanced than I\\'ve heard before. In Python, functions are the building blocks of programming—they take inputs and return outputs based on a specific instruction set. Methods, if I understand correctly, are like functions that do something with an object or another data structure—so they can encapsulate behavior within a single variable.\\n\\nControl flow statements are something else I should probably grasp better. These include things like if-else conditions where you decide which path of code to take based on certain criteria, and for loops that repeat code multiple times until a condition is met. Also, while loops are similar but execute the loop body only once at first, then exit, so they\\'re useful when you don\\'t know how many times something should run.\\n\\nI\\'ve heard about lambda functions too. They\\'re anonymous functions defined using the lambda keyword and can be used in various places like expressions or as part of other higher-order functions. They\\'re pretty cool because they allow for concise code without defining a function explicitly.\\n\\nDictionaries are another structure I\\'m vaguely remembering. Unlike arrays, which are indexed by numbers, dictionaries store data as key-value pairs where keys don\\'t have to be unique. This makes them flexible for storing information that doesn\\'t fit into a specific index. They\\'re commonly used in Python to represent collections of items with varying or unbounded size.\\n\\nI think I\\'ve heard about recursion before—where a function calls itself, and it can be a way to solve problems by breaking them down into smaller subproblems. However, implementing recursive solutions can sometimes lead to stack overflow errors if there are too many levels of recursion without proper handling.\\n\\nException handling is probably another key feature. It\\'s important because any program written in Python must handle errors gracefully to prevent crashes or unexpected behavior. I believe the try-except-finally structure is used for this purpose, where except blocks catch specific exceptions and finally ensures that some action runs regardless of whether an error occurred.\\n\\nData types are fundamental to programming, so it\\'s worth revisiting them. Booleans are a subclass of integers in Python—so True is 1 and False is 0. This can be confusing at first but is very useful for conditional checks and boolean operations.\\n\\nI also recall that when assigning values to variables, they have to follow a specific syntax. For instance, the equals sign must come after indentation or before any keywords unless it\\'s in certain contexts where you use semicolons instead. This distinction helps in avoiding common pitfalls like using semicolons inside if statements.\\n\\nFunctions returning data are another feature I should understand better. When a function is called, it can return values which might be assigned to variables for further processing. This returns value keyword makes sense because functions can produce outputs based on their inputs.\\n\\nI\\'m curious about how Python handles operators and the precedence among them. In mathematics, multiplication has higher precedence than addition, but in programming, operator precedence rules can affect the order of evaluation in expressions. Understanding this is crucial to writing correct code without parentheses altering the intended operations.\\n\\nFor loops are a common tool for iterating over data structures like lists or strings, while while loops are used when you don\\'t know how many times something should execute. They\\'re particularly useful when dealing with unbounded collections or unknown durations.\\n\\nI\\'m thinking about how Python can be applied in various fields. In web development, it\\'s essential because frameworks like Flask and Django use Python to handle HTTP requests and responses. For data science, Python\\'s rich ecosystem of libraries like NumPy, pandas, and Matplotlib makes statistical analysis and data visualization straightforward. In education, the language provides a great environment for learning programming basics.\\n\\nOne area I\\'m not entirely clear on is object-oriented programming (OOP). OOP involves defining classes with attributes and methods. While this might seem advanced, it\\'s widely used in many applications from building models to creating reusable components that can be combined into larger systems.\\n\\nI should probably start by getting familiar with the basics of Python syntax, variables, data types, control flow, functions, and exceptions because these are the building blocks for more complex concepts. Learning about dictionaries, loops, and exception handling will provide a solid foundation before moving on to advanced topics like recursion and OOP.\\n\\nAlso, exploring how Python handles imports is another important aspect I\\'m interested in. Imports allow modules to be loaded from different files, which can organize code into reusable components called modules. This makes the language more flexible and easier to work with.\\n\\nOverall, Python seems versatile and powerful for programming tasks across different domains. Mastery of its basics will open doors to using it effectively in problem-solving and software development.\\n</think>\\n\\nPython is a widely used programming language known for its simplicity and readability, making it easier for new programmers to learn compared to other languages like C++ or Java. It features a syntax that uses indentation, with standard libraries called modules, which are essential tools extending functionality beyond basic tasks. \\n\\nKey aspects of Python include:\\n\\n1. **Variables and Data Types**: Variables hold data types such as integers, strings, booleans, etc., allowing various forms of information handling.\\n2. **Control Flow**: Features like if-else conditions, for loops, while loops, and try-except-finally structures ensure correct execution flow.\\n3. **Functions and Methods**: Functions process inputs to produce outputs based on instructions, while methods encapsulate object behavior.\\n4. **Exception Handling**: Uses try-except-finally ensures code runs even when errors occur, preventing crashes.\\n\\nAdvanced features include:\\n\\n1. **Dictionaries and Sets**: Dictionaries store key-value pairs, useful for collections where keys don\\'t need uniqueness.\\n2. **Recursion and Loops**: Recursive functions handle problems by breaking them down into smaller parts, while loops are used in unknown iterations.\\n3. **Importing Modules**: Imports load modules from different files, enhancing code organization.\\n\\nPython\\'s versatility spans fields like web development ( frameworks), data science (libraries), and education (learning environment). Understanding basics is crucial for effective use and progressing to advanced concepts.\\n\\nFinal Answer:\\n\\nPython is a versatile programming language known for its simplicity and readability. It features syntax using indentation and includes modules, standard libraries, and tools for control flow, functions, exceptions, dictionaries, recursion, and imports. Mastery of these basics opens doors to using Python in various applications, making it essential for effective problem-solving and software development.' additional_kwargs={} response_metadata={'model': 'deepseek-r1:1.5b', 'created_at': '2025-06-12T15:54:59.404834Z', 'done': True, 'done_reason': 'stop', 'total_duration': 82951902200, 'load_duration': 21200600, 'prompt_eval_count': 24, 'prompt_eval_duration': 99140700, 'eval_count': 1645, 'eval_duration': 82829212300, 'model_name': 'deepseek-r1:1.5b'} id='run--e65eb359-a109-4c38-b51f-472be4d4b5d5-0' usage_metadata={'input_tokens': 24, 'output_tokens': 1645, 'total_tokens': 1669}\n"
     ]
    }
   ],
   "source": [
    "from langchain_ollama import ChatOllama\n",
    "from langchain_core.prompts import ChatPromptTemplate\n",
    "\n",
    "# Ollama를 사용하여 로컬에서 실행 중인 llama3.2 모델 로드\n",
    "llm = ChatOllama(model=\"deepseek-r1:1.5b\")\n",
    "\n",
    "# 프롬프트 템플릿 정의\n",
    "# prompt_template = PromptTemplate.from_template(\"Q: {question}\\nA:\")\n",
    "\n",
    "# 더 정확한 응답을 위한 개선된 프롬프트\n",
    "prompt_template = ChatPromptTemplate.from_messages([\n",
    "    (\"system\", \"You are an AI assistant that provides accurate and detailed answers.\"),\n",
    "    (\"human\", \"Q: {question}\\nA:\")\n",
    "])\n",
    "\n",
    "# 최신 LangChain 방식: RunnableSequence 활용\n",
    "chain = prompt_template | llm\n",
    "\n",
    "# 실행 예시\n",
    "question = \"What is Pyhon?\"\n",
    "response = chain.invoke({\"question\": question})\n",
    "\n",
    "print(type(response))\n",
    "print(response)"
   ]
  },
  {
   "cell_type": "code",
   "execution_count": null,
   "metadata": {},
   "outputs": [
    {
     "name": "stdout",
     "output_type": "stream",
     "text": [
      "<think>\n",
      "Alright, so I'm trying to figure out what Python is. I know it's a programming language, but I'm not entirely sure how it works or why we need it. Let me break this down step by step.\n",
      "\n",
      "First off, from what I remember, Python is one of the most popular programming languages used worldwide. It's known for its simplicity and readability, which makes it easier for new programmers to learn compared to more complex languages like C++ or Java. That probably means Python has a lot of built-in functions and modules that make development faster.\n",
      "\n",
      "I've heard terms like \"module\" before; I think these are like libraries that other programs can use to extend their functionality. Maybe there are standard packages in Python that developers use for various tasks, which saves them time by not having to write everything from scratch.\n",
      "\n",
      "Now, considering the name, \"Python.\" It sounds a bit older and more formal compared to languages like JavaScript or Ruby. But isn't it used in a wide range of fields today? I know it's common among software development teams, data scientists, web developers, and even in some areas of finance and education.\n",
      "\n",
      "I remember something about syntax. When I was learning programming before, the syntax was often considered difficult because Python uses indentation to define blocks of code, which is different from other languages that might use braces or semicolons. Understanding correct indentation can be a bit tricky at first, but once you get the hang of it, it makes writing code much smoother.\n",
      "\n",
      "Variables in Python are pretty straightforward—just like in many programming languages, they're declared with a name and assigned values using an equals sign. These variables can hold integers, strings, booleans, or other data types, which means there's versatility in how you handle different kinds of information in your programs.\n",
      "\n",
      "Functions and methods sound more advanced than I've heard before. In Python, functions are the building blocks of programming—they take inputs and return outputs based on a specific instruction set. Methods, if I understand correctly, are like functions that do something with an object or another data structure—so they can encapsulate behavior within a single variable.\n",
      "\n",
      "Control flow statements are something else I should probably grasp better. These include things like if-else conditions where you decide which path of code to take based on certain criteria, and for loops that repeat code multiple times until a condition is met. Also, while loops are similar but execute the loop body only once at first, then exit, so they're useful when you don't know how many times something should run.\n",
      "\n",
      "I've heard about lambda functions too. They're anonymous functions defined using the lambda keyword and can be used in various places like expressions or as part of other higher-order functions. They're pretty cool because they allow for concise code without defining a function explicitly.\n",
      "\n",
      "Dictionaries are another structure I'm vaguely remembering. Unlike arrays, which are indexed by numbers, dictionaries store data as key-value pairs where keys don't have to be unique. This makes them flexible for storing information that doesn't fit into a specific index. They're commonly used in Python to represent collections of items with varying or unbounded size.\n",
      "\n",
      "I think I've heard about recursion before—where a function calls itself, and it can be a way to solve problems by breaking them down into smaller subproblems. However, implementing recursive solutions can sometimes lead to stack overflow errors if there are too many levels of recursion without proper handling.\n",
      "\n",
      "Exception handling is probably another key feature. It's important because any program written in Python must handle errors gracefully to prevent crashes or unexpected behavior. I believe the try-except-finally structure is used for this purpose, where except blocks catch specific exceptions and finally ensures that some action runs regardless of whether an error occurred.\n",
      "\n",
      "Data types are fundamental to programming, so it's worth revisiting them. Booleans are a subclass of integers in Python—so True is 1 and False is 0. This can be confusing at first but is very useful for conditional checks and boolean operations.\n",
      "\n",
      "I also recall that when assigning values to variables, they have to follow a specific syntax. For instance, the equals sign must come after indentation or before any keywords unless it's in certain contexts where you use semicolons instead. This distinction helps in avoiding common pitfalls like using semicolons inside if statements.\n",
      "\n",
      "Functions returning data are another feature I should understand better. When a function is called, it can return values which might be assigned to variables for further processing. This returns value keyword makes sense because functions can produce outputs based on their inputs.\n",
      "\n",
      "I'm curious about how Python handles operators and the precedence among them. In mathematics, multiplication has higher precedence than addition, but in programming, operator precedence rules can affect the order of evaluation in expressions. Understanding this is crucial to writing correct code without parentheses altering the intended operations.\n",
      "\n",
      "For loops are a common tool for iterating over data structures like lists or strings, while while loops are used when you don't know how many times something should execute. They're particularly useful when dealing with unbounded collections or unknown durations.\n",
      "\n",
      "I'm thinking about how Python can be applied in various fields. In web development, it's essential because frameworks like Flask and Django use Python to handle HTTP requests and responses. For data science, Python's rich ecosystem of libraries like NumPy, pandas, and Matplotlib makes statistical analysis and data visualization straightforward. In education, the language provides a great environment for learning programming basics.\n",
      "\n",
      "One area I'm not entirely clear on is object-oriented programming (OOP). OOP involves defining classes with attributes and methods. While this might seem advanced, it's widely used in many applications from building models to creating reusable components that can be combined into larger systems.\n",
      "\n",
      "I should probably start by getting familiar with the basics of Python syntax, variables, data types, control flow, functions, and exceptions because these are the building blocks for more complex concepts. Learning about dictionaries, loops, and exception handling will provide a solid foundation before moving on to advanced topics like recursion and OOP.\n",
      "\n",
      "Also, exploring how Python handles imports is another important aspect I'm interested in. Imports allow modules to be loaded from different files, which can organize code into reusable components called modules. This makes the language more flexible and easier to work with.\n",
      "\n",
      "Overall, Python seems versatile and powerful for programming tasks across different domains. Mastery of its basics will open doors to using it effectively in problem-solving and software development.\n",
      "</think>\n",
      "\n",
      "Python is a widely used programming language known for its simplicity and readability, making it easier for new programmers to learn compared to other languages like C++ or Java. It features a syntax that uses indentation, with standard libraries called modules, which are essential tools extending functionality beyond basic tasks. \n",
      "\n",
      "Key aspects of Python include:\n",
      "\n",
      "1. **Variables and Data Types**: Variables hold data types such as integers, strings, booleans, etc., allowing various forms of information handling.\n",
      "2. **Control Flow**: Features like if-else conditions, for loops, while loops, and try-except-finally structures ensure correct execution flow.\n",
      "3. **Functions and Methods**: Functions process inputs to produce outputs based on instructions, while methods encapsulate object behavior.\n",
      "4. **Exception Handling**: Uses try-except-finally ensures code runs even when errors occur, preventing crashes.\n",
      "\n",
      "Advanced features include:\n",
      "\n",
      "1. **Dictionaries and Sets**: Dictionaries store key-value pairs, useful for collections where keys don't need uniqueness.\n",
      "2. **Recursion and Loops**: Recursive functions handle problems by breaking them down into smaller parts, while loops are used in unknown iterations.\n",
      "3. **Importing Modules**: Imports load modules from different files, enhancing code organization.\n",
      "\n",
      "Python's versatility spans fields like web development ( frameworks), data science (libraries), and education (learning environment). Understanding basics is crucial for effective use and progressing to advanced concepts.\n",
      "\n",
      "Final Answer:\n",
      "\n",
      "Python is a versatile programming language known for its simplicity and readability. It features syntax using indentation and includes modules, standard libraries, and tools for control flow, functions, exceptions, dictionaries, recursion, and imports. Mastery of these basics opens doors to using Python in various applications, making it essential for effective problem-solving and software development.\n"
     ]
    }
   ],
   "source": [
    "print(response.content)"
   ]
  },
  {
   "cell_type": "code",
   "execution_count": 6,
   "metadata": {},
   "outputs": [
    {
     "name": "stdout",
     "output_type": "stream",
     "text": [
      "파이썬 (Python)은 프로그래밍 언어입니다.\n",
      "\n",
      "개략적인 설명:\n",
      "1. 초보자에게 쉽고 사용하기 편한 라이브러리 모음\n",
      "2. 다양한 웹, 데이터 분석, AI, 시뮬레이션 등에 활용 가능\n",
      "3. 캐시, 서버, 기록, 액세스, 통합 등 다양한 기능 제공\n",
      "4. Python을 배우면 다른 언어에도 쉽게 적응 가능\n",
      "\n",
      "파이썬의 특징:\n",
      "- 간결한 문법 (언어의 기본 단위가 줄어들어 코드 길이 축소)\n",
      "- 함수형 프로그래밍 문법 사용 (사용자 정의 함수를 더 강조하기 위해)\n",
      "- 객체지향 프로그래밍 언어로 볼 수 있다\n",
      "- 높은 러닝 맵 (수많은 무료 교육 자료와 도구)\n",
      "\n",
      "파이썬은 대학생, 개발자, 기업 등 다양한 분야에서 사용되는 인기 있는 프로그래밍 언어입니다.\n"
     ]
    }
   ],
   "source": [
    "from langchain_ollama import ChatOllama\n",
    "from langchain_core.prompts import ChatPromptTemplate\n",
    "\n",
    "# Ollama를 사용하여 로컬에서 실행 중인 llama3.2 모델 로드\n",
    "llm = ChatOllama(model=\"qwen2.5:1.5b\")\n",
    "\n",
    "# 더 정확한 응답을 위한 개선된 프롬프트\n",
    "prompt_template = ChatPromptTemplate.from_messages([\n",
    "    (\"system\", \"You are an AI assistant that provides accurate and detailed answers.\"),\n",
    "    (\"human\", \"Q: {question}\\nA:\")\n",
    "])\n",
    "\n",
    "# 최신 LangChain 방식: RunnableSequence 활용\n",
    "chain = prompt_template | llm\n",
    "\n",
    "# 실행 예시\n",
    "question = \"파이썬은 무엇인가요?\"\n",
    "response = chain.invoke({\"question\": question})\n",
    "\n",
    "print(response.content)"
   ]
  }
 ],
 "metadata": {
  "kernelspec": {
   "display_name": "chatbot-0lCeHk3W-py3.12",
   "language": "python",
   "name": "python3"
  },
  "language_info": {
   "codemirror_mode": {
    "name": "ipython",
    "version": 3
   },
   "file_extension": ".py",
   "mimetype": "text/x-python",
   "name": "python",
   "nbconvert_exporter": "python",
   "pygments_lexer": "ipython3",
   "version": "3.12.7"
  }
 },
 "nbformat": 4,
 "nbformat_minor": 2
}
