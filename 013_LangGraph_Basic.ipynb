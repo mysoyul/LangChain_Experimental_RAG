{
 "cells": [
  {
   "cell_type": "markdown",
   "id": "ed0f96f1-910f-438f-876f-9eff119c2b0a",
   "metadata": {
    "id": "ed0f96f1-910f-438f-876f-9eff119c2b0a"
   },
   "source": [
    "#### LangGraph 기본 예제\n"
   ]
  },
  {
   "cell_type": "markdown",
   "id": "b03b7854-f96a-47fc-b3c7-b2bdfb55df81",
   "metadata": {
    "id": "b03b7854-f96a-47fc-b3c7-b2bdfb55df81"
   },
   "source": [
    "##### 1) 라이브러리 설치"
   ]
  },
  {
   "cell_type": "code",
   "execution_count": null,
   "id": "4cd87a33-0a37-461b-8f37-3c142e60b1f6",
   "metadata": {
    "colab": {
     "base_uri": "https://localhost:8080/"
    },
    "id": "4cd87a33-0a37-461b-8f37-3c142e60b1f6",
    "outputId": "c96ed02d-19b7-4e90-d92e-1ae52895e303"
   },
   "outputs": [
    {
     "name": "stdout",
     "output_type": "stream",
     "text": [
      "Note: you may need to restart the kernel to use updated packages.\n"
     ]
    }
   ],
   "source": [
    "#%pip install -q langchain langchain-openai langgraph"
   ]
  },
  {
   "cell_type": "markdown",
   "id": "55152049-e9e5-4952-8e19-409f58cf3ac9",
   "metadata": {
    "id": "55152049-e9e5-4952-8e19-409f58cf3ac9"
   },
   "source": [
    "##### 2) OpenAI 인증키 설정"
   ]
  },
  {
   "cell_type": "code",
   "execution_count": 1,
   "id": "b76f68a8-4745-4377-8057-6090b87377d1",
   "metadata": {
    "id": "b76f68a8-4745-4377-8057-6090b87377d1"
   },
   "outputs": [
    {
     "data": {
      "text/plain": [
       "True"
      ]
     },
     "execution_count": 1,
     "metadata": {},
     "output_type": "execute_result"
    }
   ],
   "source": [
    "from dotenv import load_dotenv\n",
    "# .env 파일을 불러와서 환경 변수로 설정\n",
    "load_dotenv()"
   ]
  },
  {
   "cell_type": "markdown",
   "id": "fc01c50a-32cf-49af-891a-f9b17fa0bd6c",
   "metadata": {
    "id": "fc01c50a-32cf-49af-891a-f9b17fa0bd6c"
   },
   "source": [
    "##### 두 개의 AI 에이전트 협력"
   ]
  },
  {
   "cell_type": "code",
   "execution_count": 5,
   "id": "on0y4xF8VoyE",
   "metadata": {
    "id": "on0y4xF8VoyE"
   },
   "outputs": [
    {
     "name": "stdout",
     "output_type": "stream",
     "text": [
      "\n",
      "[Agent 1] 원본 질문: LangGraph는 무엇이며, LangChain과 어떤 차이점이 있나요? 그리고 LangGraph를 사용해야 하는 이유는 무엇인가요?\n",
      "[Agent 1] 핵심 키워드: content='LangGraph, LangChain, 차이점, 사용 이유' additional_kwargs={'refusal': None} response_metadata={'token_usage': {'completion_tokens': 16, 'prompt_tokens': 89, 'total_tokens': 105, 'completion_tokens_details': {'accepted_prediction_tokens': 0, 'audio_tokens': 0, 'reasoning_tokens': 0, 'rejected_prediction_tokens': 0}, 'prompt_tokens_details': {'audio_tokens': 0, 'cached_tokens': 0}}, 'model_name': 'gpt-3.5-turbo-0125', 'system_fingerprint': None, 'id': 'chatcmpl-BhpUnoRvZwdh6RfKCXx6VdcRMsXCn', 'service_tier': 'default', 'finish_reason': 'stop', 'logprobs': None} id='run--9001236d-fdaf-4227-8542-f6b798ee21ff-0' usage_metadata={'input_tokens': 89, 'output_tokens': 16, 'total_tokens': 105, 'input_token_details': {'audio': 0, 'cache_read': 0}, 'output_token_details': {'audio': 0, 'reasoning': 0}}\n",
      "[Agent 1] 배경 정보: content='LangGraph는 언어 간 상호작용을 모델링하는 그래프 기반의 언어 모델이며, 여러 언어 간의 상호작용을 처리하는 데 유용합니다. 예를 들어, 다중 언어 번역, 다국어 정보 검색, 언어 간 감정 분류 등에 활용될 수 있습니다.\\n\\nLangChain은 LangGraph의 일종으로, 여러 언어 간의 관계를 연결해주는 방식으로 작동합니다. LangChain은 더 작은 크기의 데이터와 간단한 모델을 사용하여 연산 속도가 빠르고 경제적입니다. 반면 LangGraph는 더 복잡한 관계를 모델링할 수 있지만 계산 비용이 더 많이 들 수 있습니다.\\n\\nLangGraph를 사용해야 하는 이유는 다양한 언어 간 상호 작용을 다루는 데 필요한 복잡한 관계를 효과적으로 모델링할 수 있기 때문입니다. 또한 LangGraph는 다국어 콘텐츠를 처리하거나, 다국어 이용자에게 맞춤형 서비스를 제공하는 등 다양한 분야에서 유용하게 활용될 수 있습니다.' additional_kwargs={'refusal': None} response_metadata={'token_usage': {'completion_tokens': 361, 'prompt_tokens': 91, 'total_tokens': 452, 'completion_tokens_details': {'accepted_prediction_tokens': 0, 'audio_tokens': 0, 'reasoning_tokens': 0, 'rejected_prediction_tokens': 0}, 'prompt_tokens_details': {'audio_tokens': 0, 'cached_tokens': 0}}, 'model_name': 'gpt-3.5-turbo-0125', 'system_fingerprint': None, 'id': 'chatcmpl-BhpUowIeGWT7YorZeohU6l8qMHdRJ', 'service_tier': 'default', 'finish_reason': 'stop', 'logprobs': None} id='run--5c325fbb-4414-4b65-a7a1-f698832d51ab-0' usage_metadata={'input_tokens': 91, 'output_tokens': 361, 'total_tokens': 452, 'input_token_details': {'audio': 0, 'cache_read': 0}, 'output_token_details': {'audio': 0, 'reasoning': 0}}\n",
      "\n",
      "[Agent 2] 최종 답변 생성 완료\n",
      "\n",
      "\n",
      " [AI 최종 답변]:\n",
      "{'final_answer': AIMessage(content='LangGraph는 언어 간 상호작용을 모델링하는 그래프 기반의 언어 모델로, 여러 언어 간의 상호작용을 처리하는 데 유용합니다. LangChain은 LangGraph의 일종으로, 여러 언어 간의 관계를 연결해주는 방식으로 작동합니다. LangChain은 더 작은 크기의 데이터와 간단한 모델을 사용하여 연산 속도가 빠르고 경제적이지만, LangGraph는 더 복잡한 관계를 모델링할 수 있지만 계산 비용이 더 많이 들 수 있습니다.\\n\\nLangGraph를 사용해야 하는 이유는 다양한 언어 간 상호 작용을 다루는 데 필요한 복잡한 관계를 효과적으로 모델링할 수 있기 때문입니다. 또한 LangGraph는 다국어 콘텐츠를 처리하거나, 다국어 이용자에게 맞춤형 서비스를 제공하는 등 다양한 분야에서 유용하게 활용될 수 있습니다. 따라서, LangGraph는 언어 간 상호작용을 다루는 다국어 환경에서 더 효율적으로 작동할 수 있는 도구로서 중요한 역할을 할 수 있습니다.', additional_kwargs={'refusal': None}, response_metadata={'token_usage': {'completion_tokens': 375, 'prompt_tokens': 999, 'total_tokens': 1374, 'completion_tokens_details': {'accepted_prediction_tokens': 0, 'audio_tokens': 0, 'reasoning_tokens': 0, 'rejected_prediction_tokens': 0}, 'prompt_tokens_details': {'audio_tokens': 0, 'cached_tokens': 0}}, 'model_name': 'gpt-3.5-turbo-0125', 'system_fingerprint': None, 'id': 'chatcmpl-BhpUrsrw5meqX58DUBVxkgUQFQTEE', 'service_tier': 'default', 'finish_reason': 'stop', 'logprobs': None}, id='run--5b6285e8-ac72-46ab-bf89-c65c0943399d-0', usage_metadata={'input_tokens': 999, 'output_tokens': 375, 'total_tokens': 1374, 'input_token_details': {'audio': 0, 'cache_read': 0}, 'output_token_details': {'audio': 0, 'reasoning': 0}})}\n",
      "('LangGraph는 언어 간 상호작용을 모델링하는 그래프 기반의 언어 모델로, 여러 언어 간의 상호작용을 처리하는 데 유용합니다. '\n",
      " 'LangChain은 LangGraph의 일종으로, 여러 언어 간의 관계를 연결해주는 방식으로 작동합니다. LangChain은 더 작은 '\n",
      " '크기의 데이터와 간단한 모델을 사용하여 연산 속도가 빠르고 경제적이지만, LangGraph는 더 복잡한 관계를 모델링할 수 있지만 계산 '\n",
      " '비용이 더 많이 들 수 있습니다.\\n'\n",
      " '\\n'\n",
      " 'LangGraph를 사용해야 하는 이유는 다양한 언어 간 상호 작용을 다루는 데 필요한 복잡한 관계를 효과적으로 모델링할 수 있기 '\n",
      " '때문입니다. 또한 LangGraph는 다국어 콘텐츠를 처리하거나, 다국어 이용자에게 맞춤형 서비스를 제공하는 등 다양한 분야에서 유용하게 '\n",
      " '활용될 수 있습니다. 따라서, LangGraph는 언어 간 상호작용을 다루는 다국어 환경에서 더 효율적으로 작동할 수 있는 도구로서 '\n",
      " '중요한 역할을 할 수 있습니다.')\n"
     ]
    }
   ],
   "source": [
    "\n",
    "from langgraph.graph import StateGraph\n",
    "from langchain_openai import ChatOpenAI\n",
    "from pprint import pprint\n",
    "\n",
    "# LLM 모델 설정\n",
    "llm = ChatOpenAI(model=\"gpt-3.5-turbo\")\n",
    "\n",
    "# 첫 번째 AI 에이전트: 질문 분석 및 배경 정보 생성\n",
    "def agent_1(state):\n",
    "    \"\"\"사용자의 질문을 분석하고 핵심 키워드와 배경 정보를 추가\"\"\"\n",
    "    query = state[\"query\"]\n",
    "    \n",
    "    # 질문에서 핵심 키워드 추출\n",
    "    keywords = llm.invoke(f\"질문: {query}\\n이 질문에서 핵심 키워드를 3~5개 추출해 주세요.\")\n",
    "    \n",
    "    # 질문과 관련된 배경 정보 제공\n",
    "    background_info = llm.invoke(f\"질문: {query}\\n이 질문을 이해하는 데 도움이 될 만한 추가 정보를 제공해 주세요.\")\n",
    "\n",
    "    print(f\"\\n[Agent 1] 원본 질문: {query}\")\n",
    "    print(f\"[Agent 1] 핵심 키워드: {keywords}\")\n",
    "    print(f\"[Agent 1] 배경 정보: {background_info}\\n\")\n",
    "\n",
    "    return {\"refined_query\": query, \"keywords\": keywords, \"background_info\": background_info}\n",
    "\n",
    "# 두 번째 AI 에이전트: 키워드 및 배경 정보를 활용하여 답변 생성\n",
    "def agent_2(state):\n",
    "    \"\"\"Agent 1이 제공한 정보를 기반으로 보다 정교한 답변 생성\"\"\"\n",
    "    refined_query = state[\"refined_query\"]\n",
    "    keywords = state[\"keywords\"]\n",
    "    background_info = state[\"background_info\"]\n",
    "\n",
    "    # Agent 1이 제공한 정보를 활용하여 최종 답변 생성\n",
    "    final_response = llm.invoke(\n",
    "        f\"질문: {refined_query}\\n\"\n",
    "        f\"핵심 키워드: {keywords}\\n\"\n",
    "        f\"배경 정보: {background_info}\\n\"\n",
    "        f\"위 정보를 바탕으로 질문에 대해 깊이 있는 답변을 작성해 주세요.\"\n",
    "    )\n",
    "\n",
    "    print(f\"[Agent 2] 최종 답변 생성 완료\\n\")\n",
    "    \n",
    "    return {\"final_answer\": final_response}\n",
    "\n",
    "# LangGraph Workflow 설정\n",
    "workflow = StateGraph(dict)  \n",
    "\n",
    "# 그래프의 시작점 정의\n",
    "workflow.add_node(\"agent_1\", agent_1)\n",
    "workflow.add_node(\"agent_2\", agent_2)\n",
    "\n",
    "# 실행 흐름(Edges) 정의\n",
    "workflow.set_entry_point(\"agent_1\")  # Agent 1이 먼저 실행됨\n",
    "workflow.add_edge(\"agent_1\", \"agent_2\")  # Agent 1 -> Agent 2\n",
    "\n",
    "# 실행 엔진 빌드\n",
    "app = workflow.compile()\n",
    "\n",
    "# 실행 예제\n",
    "query = \"LangGraph는 무엇이며, LangChain과 어떤 차이점이 있나요? 그리고 LangGraph를 사용해야 하는 이유는 무엇인가요?\"\n",
    "state = {\"query\": query}\n",
    "result = app.invoke(state)\n",
    "\n",
    "# 최종 결과 출력\n",
    "print(\"\\n [AI 최종 답변]:\")\n",
    "pprint(result)\n",
    "pprint(result[\"final_answer\"].content)\n",
    "\n",
    "\n",
    "\n"
   ]
  }
 ],
 "metadata": {
  "colab": {
   "provenance": [],
   "toc_visible": true
  },
  "kernelspec": {
   "display_name": "chatbot-0lCeHk3W-py3.12",
   "language": "python",
   "name": "python3"
  },
  "language_info": {
   "codemirror_mode": {
    "name": "ipython",
    "version": 3
   },
   "file_extension": ".py",
   "mimetype": "text/x-python",
   "name": "python",
   "nbconvert_exporter": "python",
   "pygments_lexer": "ipython3",
   "version": "3.12.7"
  }
 },
 "nbformat": 4,
 "nbformat_minor": 5
}
